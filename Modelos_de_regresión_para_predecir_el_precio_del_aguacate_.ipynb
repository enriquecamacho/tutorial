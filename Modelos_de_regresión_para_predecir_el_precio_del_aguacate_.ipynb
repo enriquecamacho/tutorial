{
  "cells": [
    {
      "cell_type": "markdown",
      "metadata": {
        "id": "view-in-github",
        "colab_type": "text"
      },
      "source": [
        "<a href=\"https://colab.research.google.com/github/enriquecamacho/tutorial/blob/master/Modelos_de_regresi%C3%B3n_para_predecir_el_precio_del_aguacate_.ipynb\" target=\"_parent\"><img src=\"https://colab.research.google.com/assets/colab-badge.svg\" alt=\"Open In Colab\"/></a>"
      ]
    },
    {
      "cell_type": "markdown",
      "id": "a2a0cb5b",
      "metadata": {
        "id": "a2a0cb5b"
      },
      "source": [
        "# Regression Models Evaluation Metrics\n",
        "\n",
        "---\n",
        "\n"
      ]
    },
    {
      "cell_type": "markdown",
      "id": "9cd48a28",
      "metadata": {
        "id": "9cd48a28"
      },
      "source": [
        "## How to compare Regression Models"
      ]
    },
    {
      "cell_type": "code",
      "execution_count": 2,
      "id": "67ea66f7",
      "metadata": {
        "id": "67ea66f7"
      },
      "outputs": [],
      "source": [
        "from matplotlib import pyplot as plt\n",
        "import seaborn as sns\n",
        "from IPython.display import Image"
      ]
    },
    {
      "cell_type": "markdown",
      "id": "56412085",
      "metadata": {
        "id": "56412085"
      },
      "source": [
        "## Table of Contents\n",
        "\n",
        "* 1. Introduction\n",
        "* 2. Regression Evaluation Metrics\n",
        "    * 2.1 Mean Absolute Error (MAE)\n",
        "    * 2.2 Mean Squared Error (MSE)\n",
        "    * 2.3 Root Mean Squared Error (RMSE)\n",
        "    * 2.4 R-squared (Coefficient of determination)\n",
        "    * 2.5 Adjusted R squared\n",
        "    * 2.6 Cross-validated R2\n",
        "    * 2.7 Regression Evaluation Metrics - Conclusion\n",
        "* 3. Set-up\n",
        "    * 3.1 Import Libraries\n",
        "    * 3.2 Defining function for regression metrics\n",
        "    * 3.3 Data Sets Characteristics\n",
        "    * 3.4 Import Data\n",
        "* 4. Some visualisations\n",
        "    * 4.1 Avocado Prices\n",
        "    * 4.2 Boston House Prices\n",
        "* 5. Data pre-processing\n",
        "    * 5.1 Some transformations\n",
        "    * 5.2 Outlier detection and removal\n",
        "    * 5.3 Train test split\n",
        "    * 5.4 Feature scaling\n",
        "* 6. Comparing different models\n",
        "    * 6.1 Linear Regression\n",
        "    * 6.2 Random Forest\n",
        "    * 6.3 Ridge Regression\n",
        "    * 6.4 XGBoost\n",
        "    * 6.5 Recursive Feature Elimination (RFE)\n",
        "* 7. Final Model Evaluation\n",
        "    * 7.1 Avocado dataset\n",
        "    * 7.2 Boston dataset\n",
        "    * 7.3 Visualizing Model Performance\n",
        "* 8. Bonus: hyperparameters Tuning Using GridSearchCV\n",
        "    * 8.1 Tuned Ridge Regression\n",
        "* 9. Final performance comparison\n",
        "    * 9.1 Avocado data set\n",
        "    * 9.2 Boston data set\n",
        "* 10. Other notebooks\n",
        "* 11. Some referrals"
      ]
    },
    {
      "cell_type": "markdown",
      "id": "1c092567",
      "metadata": {
        "id": "1c092567"
      },
      "source": [
        "# 1. Introduction"
      ]
    },
    {
      "cell_type": "markdown",
      "id": "b5b699b1",
      "metadata": {
        "id": "b5b699b1"
      },
      "source": [
        "Performance metrics are vital for supervised machine learning models. To be sure that your model is doing well in its predictions, you need to evaluate the model. Our goal is to identify how well the model performs on new data.\n",
        "\n",
        "There are some evaluation metrics that can help you determine whether the model’s predictions are accurate to a certain level of performance."
      ]
    },
    {
      "cell_type": "markdown",
      "id": "6470bdd0",
      "metadata": {
        "id": "6470bdd0"
      },
      "source": [
        "# 2. Regression Evaluation Metrics\n",
        "\n",
        "All of these are **loss functions**, because we want to minimize them.\n",
        "\n",
        "## 2.1 Mean Absolute Error (MAE)\n",
        "is the mean of the absolute value of the errors:\n",
        "\n",
        "$$\\frac 1n\\sum_{i=1}^n|y_i-\\hat{y}_i|$$\n",
        "\n",
        "The Mean absolute error represents the average of the absolute difference between the actual and predicted values in the dataset. It measures the average of the residuals in the dataset.\n",
        "\n",
        "## 2.2 Mean Squared Error (MSE)\n",
        "is the mean of the squared errors:\n",
        "\n",
        "$$\\frac 1n\\sum_{i=1}^n(y_i-\\hat{y}_i)^2$$\n",
        "\n",
        "Mean Squared Error represents the average of the squared difference between the original and predicted values in the data set. It measures the variance of the residuals.\n",
        "\n",
        "## 2.3 Root Mean Squared Error (RMSE)\n",
        "is the square root of the mean of the squared errors:\n",
        "\n",
        "$$\\sqrt{\\frac 1n\\sum_{i=1}^n(y_i-\\hat{y}_i)^2}$$\n",
        "\n",
        "RMSE measures the standard deviation of residuals."
      ]
    },
    {
      "cell_type": "markdown",
      "id": "37d429f5",
      "metadata": {
        "id": "37d429f5"
      },
      "source": [
        "## 2.4 R-squared (Coefficient of determination)"
      ]
    },
    {
      "cell_type": "markdown",
      "id": "bc75ce6d",
      "metadata": {
        "id": "bc75ce6d"
      },
      "source": [
        "# 1. **SST** (or TSS)\n",
        "\n",
        "The Sum of Squares Total/Total Sum of Squares (SST or TSS) is the squared differences between the observed dependent variable and its mean.\n",
        "\n",
        "2. **SSR** (or RSS)\n",
        "\n",
        "Sum of Squares Regression (SSR or RSS) is the sum of the differences between the predicted value and the mean of the dependent variable.\n",
        "\n",
        "3. **SSE** (or ESS)\n",
        "\n",
        "Sum of Squares Error (SSE or ESS) is the difference between the observed value and the predicted value."
      ]
    },
    {
      "cell_type": "markdown",
      "source": [
        "![Imagen](https://docs.google.com/uc?export=download&id=19C0R8Skqfx_3i6Ot3TOOEbrQj2nwokuu)"
      ],
      "metadata": {
        "id": "Z9jzWNSpR6Ny"
      },
      "id": "Z9jzWNSpR6Ny"
    },
    {
      "cell_type": "markdown",
      "id": "21fe1fcc",
      "metadata": {
        "id": "21fe1fcc"
      },
      "source": [
        "The coefficient of determination or R-squared represents the proportion of the variance in the dependent variable which is explained by the linear regression model. When R² is high, it represents that the regression can capture much of variation in observed dependent variables. That’s why we can say the regression model performs well when R² is high.\n",
        "\n",
        "$$R^2 = 1- \\frac {SSR}{SST}$$\n",
        "\n",
        "It is a scale-free score i.e. irrespective of the values being small or large, the value of R square will be less than one. One misconception about regression analysis is that a low R-squared value is always a bad thing. For example, some data sets or fields of study have an inherently greater amount of unexplained variation. In this case, R-squared values are naturally going to be lower. Investigators can make useful conclusions about the data even with a low R-squared value."
      ]
    },
    {
      "cell_type": "code",
      "source": [],
      "metadata": {
        "id": "71SkjhngUsCg"
      },
      "id": "71SkjhngUsCg",
      "execution_count": null,
      "outputs": []
    },
    {
      "cell_type": "code",
      "source": [],
      "metadata": {
        "id": "1FclNNKtUsSD"
      },
      "id": "1FclNNKtUsSD",
      "execution_count": null,
      "outputs": []
    },
    {
      "cell_type": "markdown",
      "id": "44d3c234",
      "metadata": {
        "id": "44d3c234"
      },
      "source": [
        "$$R^2=1$$ All the variation in the y values is accounted for by the x values."
      ]
    },
    {
      "cell_type": "markdown",
      "id": "cadf4009",
      "metadata": {
        "id": "cadf4009"
      },
      "source": [
        "![R2=1.jpeg](attachment:17b34cfd-9cf5-4537-a735-838e9a2b6e6c.jpeg)"
      ]
    },
    {
      "cell_type": "markdown",
      "id": "8d4fc0d3",
      "metadata": {
        "id": "8d4fc0d3"
      },
      "source": [
        "$$R^2=0.83$$\n",
        "83 % of the variation in the y values is accounted for by the x values."
      ]
    },
    {
      "cell_type": "markdown",
      "id": "4c172d55",
      "metadata": {
        "id": "4c172d55"
      },
      "source": [
        "![R2=0.8.jpeg](attachment:a369c900-390a-4f5b-861b-b877c00b6709.jpeg)"
      ]
    },
    {
      "cell_type": "markdown",
      "id": "503fde9d",
      "metadata": {
        "id": "503fde9d"
      },
      "source": [
        "$$R^2=0$$ None of the variation in the y values is accounted for by the x values."
      ]
    },
    {
      "cell_type": "markdown",
      "id": "6bf6dc5c",
      "metadata": {
        "id": "6bf6dc5c"
      },
      "source": [
        "![R2=0.jpeg](attachment:660873c9-8a27-4ae9-9ba9-b71ed1e80c22.jpeg)"
      ]
    },
    {
      "cell_type": "markdown",
      "id": "9361d387",
      "metadata": {
        "id": "9361d387"
      },
      "source": [
        "## 2.5 Adjusted R squared\n",
        "\n",
        "$$R^2_{adj.} = 1 - (1-R^2)*\\frac{n-1}{n-p-1}$$\n",
        "\n",
        "**Adjusted R squared** is a modified version of R square, and it is adjusted for the number of independent variables in the model, and it will always be less than or equal to R².In the formula below n is the number of observations in the data and k is the number of the independent variables in the data."
      ]
    },
    {
      "cell_type": "markdown",
      "id": "4591211a",
      "metadata": {
        "id": "4591211a"
      },
      "source": [
        "## 2.6 Cross-validated R2\n",
        "\n",
        "Cross-validation is a resampling procedure used to evaluate machine learning models on a limited data sample. It is a popular method because it is simple to understand and because it generally results in a less biased or less optimistic estimate of the model skill than other methods, such as a simple train/test split.\n",
        "\n",
        "The procedure has a single parameter called k that refers to the number of groups that a given data sample is to be split into. As such, the procedure is often called k-fold cross-validation. When a specific value for k is chosen, it may be used in place of k in the reference to the model, such as k=10 becoming 10-fold cross-validation.\n",
        "\n",
        "**Cross-validated R2** is a median value or R2 taken from cross-validation procedure."
      ]
    },
    {
      "cell_type": "markdown",
      "id": "f8b501c7",
      "metadata": {
        "id": "f8b501c7"
      },
      "source": [
        "![CV.png](attachment:84627007-1925-48f3-99bc-5fc48ad60d43.png)"
      ]
    },
    {
      "cell_type": "markdown",
      "id": "5a5d94e5",
      "metadata": {
        "id": "5a5d94e5"
      },
      "source": [
        "## 2.7 Regression Evaluation Metrics - Conclusion\n",
        "\n",
        "Both RMSE and R-Squared quantifies how well a linear regression model fits a dataset. When assessing how well a model fits a dataset, it’s useful to calculate both the RMSE and the R2 value because each metric tells us something different.\n",
        "\n",
        "* **RMSE** tells us the typical distance between the predicted value made by the regression model and the actual value.\n",
        "\n",
        "* **R2** tells us how well the predictor variables can explain the variation in the response variable.\n",
        "\n",
        "Adding more independent variables or predictors to a regression model tends to increase the R2 value, which tempts makers of the model to add even more variables. **Adjusted R2** is used to determine how reliable the correlation is and how much it is determined by the addition of independent variables. It is always lower than the R2."
      ]
    },
    {
      "cell_type": "markdown",
      "id": "0ac20df4",
      "metadata": {
        "id": "0ac20df4"
      },
      "source": [
        "# 3 Set-up"
      ]
    },
    {
      "cell_type": "markdown",
      "id": "60eccff3",
      "metadata": {
        "id": "60eccff3"
      },
      "source": [
        "## 3. 1 Import Libraries"
      ]
    },
    {
      "cell_type": "code",
      "execution_count": 3,
      "id": "ac4b4cbe",
      "metadata": {
        "id": "ac4b4cbe"
      },
      "outputs": [],
      "source": [
        "import numpy as np\n",
        "import pandas as pd\n",
        "import seaborn as sns\n",
        "from matplotlib import pyplot as plt\n",
        "from statsmodels.stats.outliers_influence import variance_inflation_factor\n",
        "from sklearn.model_selection import cross_val_score\n",
        "\n",
        "from sklearn import metrics\n",
        "from collections import Counter"
      ]
    },
    {
      "cell_type": "markdown",
      "id": "971f15ed",
      "metadata": {
        "id": "971f15ed"
      },
      "source": [
        "## 3.2 Defining function for regression metrics"
      ]
    },
    {
      "cell_type": "code",
      "execution_count": 4,
      "id": "f4be5360",
      "metadata": {
        "id": "f4be5360"
      },
      "outputs": [],
      "source": [
        "def Reg_Models_Evaluation_Metrics (model,X_train,y_train,X_test,y_test,y_pred):\n",
        "    cv_score = cross_val_score(estimator = model, X = X_train, y = y_train, cv = 10)\n",
        "\n",
        "    # Calculating Adjusted R-squared\n",
        "    r2 = model.score(X_test, y_test)\n",
        "    # Number of observations is the shape along axis 0\n",
        "    n = X_test.shape[0]\n",
        "    # Number of features (predictors, p) is the shape along axis 1\n",
        "    p = X_test.shape[1]\n",
        "    # Adjusted R-squared formula\n",
        "    adjusted_r2 = 1-(1-r2)*(n-1)/(n-p-1)\n",
        "    RMSE = np.sqrt(metrics.mean_squared_error(y_test, y_pred))\n",
        "    R2 = model.score(X_test, y_test)\n",
        "    CV_R2 = cv_score.mean()\n",
        "\n",
        "    return R2, adjusted_r2, CV_R2, RMSE\n",
        "\n",
        "    print('RMSE:', round(RMSE,4))\n",
        "    print('R2:', round(R2,4))\n",
        "    print('Adjusted R2:', round(adjusted_r2, 4) )\n",
        "    print(\"Cross Validated R2: \", round(cv_score.mean(),4) )"
      ]
    },
    {
      "cell_type": "markdown",
      "id": "94f6eeb5",
      "metadata": {
        "id": "94f6eeb5"
      },
      "source": [
        "## 3.3 Data Sets Characteristics\n",
        "\n",
        "### Avocado Prices\n",
        "\n",
        "https://www.kaggle.com/datasets/neuromusic/avocado-prices\n",
        "\n",
        "Some relevant columns in the dataset:\n",
        "\n",
        " - Date - The date of the observation\n",
        "\n",
        " - AveragePrice - the average price of a single avocado\n",
        "\n",
        " - type - conventional or organic\n",
        "\n",
        " - year - the year\n",
        "\n",
        " - Region - the city or region of the observation\n",
        "\n",
        " - Total Volume - Total number of avocados sold\n",
        "\n",
        " - 4046 - Total number of avocados with PLU 4046 sold\n",
        "\n",
        " - 4225 - Total number of avocados with PLU 4225 sold\n",
        "\n",
        " - 4770 - Total number of avocados with PLU 4770 sold\n",
        "\n",
        "Missing values: None\n",
        "\n",
        "Duplicate entries: None\n"
      ]
    },
    {
      "cell_type": "markdown",
      "id": "8515be52",
      "metadata": {
        "id": "8515be52"
      },
      "source": [
        "## 3.4 Import Data"
      ]
    },
    {
      "cell_type": "code",
      "execution_count": 5,
      "id": "e77ed116",
      "metadata": {
        "id": "e77ed116"
      },
      "outputs": [],
      "source": [
        "url1=\"https://raw.githubusercontent.com/enriquecamacho/TemasSelectosdeIA_XAI/main/datos/avocado.csv\"\n",
        "\n",
        "try:\n",
        "    raw_df1 = pd.read_csv(url1)\n",
        "except:\n",
        "    raw_df1 = pd.read_csv('avocado.csv')\n"
      ]
    },
    {
      "cell_type": "code",
      "execution_count": 6,
      "id": "b7dd08b3",
      "metadata": {
        "id": "b7dd08b3"
      },
      "outputs": [],
      "source": [
        "# Deleting column\n",
        "raw_df1 = raw_df1.drop('Unnamed: 0', axis = 1)"
      ]
    },
    {
      "cell_type": "code",
      "execution_count": 7,
      "id": "501fca93",
      "metadata": {
        "id": "501fca93"
      },
      "outputs": [],
      "source": [
        "numeric_columns = ['AveragePrice', 'Total Volume','4046', '4225', '4770', 'Total Bags', 'Small Bags', 'Large Bags', 'XLarge Bags']\n",
        "categorical_columns = ['Region', 'Type']\n",
        "time_columns = ['Data', 'Year']"
      ]
    },
    {
      "cell_type": "markdown",
      "id": "bf5a58c3",
      "metadata": {
        "id": "bf5a58c3"
      },
      "source": [
        "# 4. Some visualisations"
      ]
    },
    {
      "cell_type": "markdown",
      "id": "10e18e34",
      "metadata": {
        "id": "10e18e34"
      },
      "source": [
        "## 4.1 Avocado Prices"
      ]
    },
    {
      "cell_type": "code",
      "execution_count": 8,
      "id": "811262f2",
      "metadata": {
        "id": "811262f2",
        "colab": {
          "base_uri": "https://localhost:8080/",
          "height": 1000
        },
        "outputId": "ebb93c37-f7e8-4ea4-c7de-77a9407aa831"
      },
      "outputs": [
        {
          "output_type": "display_data",
          "data": {
            "text/plain": [
              "<Figure size 1600x1600 with 9 Axes>"
            ],
            "image/png": "[encoded data removed]"
          },
          "metadata": {}
        }
      ],
      "source": [
        "# Checking for distributions\n",
        "def dist_custom(dataset, columns_list, rows, cols, suptitle):\n",
        "    fig, axs = plt.subplots(rows, cols,figsize=(16,16))\n",
        "    fig.suptitle(suptitle,y=1, size=25)\n",
        "    axs = axs.flatten()\n",
        "    for i, data in enumerate(columns_list):\n",
        "        sns.kdeplot(dataset[data], ax=axs[i], fill=True,  alpha=.5, linewidth=0)\n",
        "        axs[i].set_title(data + ', skewness is '+str(round(dataset[data].skew(axis = 0, skipna = True),2)))\n",
        "\n",
        "dist_custom(dataset=raw_df1, columns_list=numeric_columns, rows=3, cols=3, suptitle='Avocado Prices: distibution for each numeric variable')\n",
        "plt.tight_layout()"
      ]
    },
    {
      "cell_type": "markdown",
      "id": "bcb54e8f",
      "metadata": {
        "id": "bcb54e8f"
      },
      "source": [
        "# 5. Data pre-processing"
      ]
    },
    {
      "cell_type": "markdown",
      "id": "6d8cd7ee",
      "metadata": {
        "id": "6d8cd7ee"
      },
      "source": [
        "## 5.1 Some transformations"
      ]
    },
    {
      "cell_type": "code",
      "execution_count": 9,
      "id": "d3c236f5",
      "metadata": {
        "id": "d3c236f5"
      },
      "outputs": [],
      "source": [
        "# Changing data types\n",
        "for i in raw_df1.columns:\n",
        "    if i == 'Date':\n",
        "        raw_df1[i] = raw_df1[i].astype('datetime64[ns]')\n",
        "    elif raw_df1[i].dtype == 'object':\n",
        "        raw_df1[i] = raw_df1[i].astype('category')"
      ]
    },
    {
      "cell_type": "code",
      "execution_count": 10,
      "id": "fafe6f2f",
      "metadata": {
        "id": "fafe6f2f"
      },
      "outputs": [],
      "source": [
        "df1 = raw_df1.copy()\n",
        "\n",
        "df1['Date'] = pd.to_datetime(df1['Date'])\n",
        "df1['month'] = df1['Date'].dt.month\n",
        "\n",
        "df1['Spring'] = df1['month'].between(3,5,inclusive='both')\n",
        "df1['Summer'] = df1['month'].between(6,8,inclusive='both')\n",
        "df1['Fall'] = df1['month'].between(9,11,inclusive='both')\n",
        "# df1['Winter'] = df1['month'].between(12,2,inclusive='both')\n",
        "\n",
        "df1.Spring = df1.Spring.replace({True: 1, False: 0})\n",
        "df1.Summer = df1.Summer.replace({True: 1, False: 0})\n",
        "df1.Fall = df1.Fall.replace({True: 1, False: 0})"
      ]
    },
    {
      "cell_type": "code",
      "execution_count": 11,
      "id": "c288ae32",
      "metadata": {
        "id": "c288ae32"
      },
      "outputs": [],
      "source": [
        "# Encoding labels for 'type'\n",
        "from sklearn.preprocessing import LabelEncoder\n",
        "le = LabelEncoder()\n",
        "df1['type'] = le.fit_transform(df1['type'])\n",
        "\n",
        "# Encoding 'region' (One Hot Encoding)\n",
        "from sklearn.preprocessing import OneHotEncoder\n",
        "ohe = OneHotEncoder(drop='first', handle_unknown='ignore')\n",
        "ohe = pd.get_dummies(data=df1, columns=['region'])\n",
        "\n",
        "df1 = ohe.drop(['Date','4046','4225','4770','Small Bags','Large Bags','XLarge Bags'], axis=1)"
      ]
    },
    {
      "cell_type": "markdown",
      "id": "09813c94",
      "metadata": {
        "id": "09813c94"
      },
      "source": [
        "## 5.2 Outlier detection and removal"
      ]
    },
    {
      "cell_type": "markdown",
      "id": "a5ba3fc9",
      "metadata": {
        "id": "a5ba3fc9"
      },
      "source": [
        "We have a significant problems with outliers in both data sets:\n",
        "\n",
        "* most of the distributions are not normal;\n",
        "\n",
        "* huge outliers;\n",
        "\n",
        "* higly right-skeved data in Avocado Prices data set;\n",
        "\n",
        "* a lot of outliers.\n",
        "\n",
        "Tukey’s (1977) technique is used to detect outliers in skewed or non bell-shaped data since it makes no distributional assumptions. However, Tukey’s method may not be appropriate for a small sample size. The general rule is that anything not in the range of (Q1 - 1.5 IQR) and (Q3 + 1.5 IQR) is an outlier, and can be removed.\n",
        "\n",
        "Inter Quartile Range (IQR) is one of the most extensively used procedure for outlier detection and removal.\n",
        "\n",
        "Procedure:\n",
        "\n",
        "1. Find the first quartile, Q1.\n",
        "2. Find the third quartile, Q3.\n",
        "3. Calculate the IQR. IQR = Q3-Q1.\n",
        "4. Define the normal data range with lower limit as Q1–1.5 IQR and upper limit as Q3+1.5 IQR.\n",
        "\n",
        "For oulier detection methods look here: https://www.kaggle.com/code/marcinrutecki/outlier-detection-methods"
      ]
    },
    {
      "cell_type": "code",
      "execution_count": 12,
      "id": "c60584f6",
      "metadata": {
        "id": "c60584f6"
      },
      "outputs": [],
      "source": [
        "def IQR_method (df,n,features):\n",
        "    \"\"\"\n",
        "    Takes a dataframe and returns an index list corresponding to the observations\n",
        "    containing more than n outliers according to the Tukey IQR method.\n",
        "    \"\"\"\n",
        "    outlier_list = []\n",
        "\n",
        "    for column in features:\n",
        "\n",
        "        # 1st quartile (25%)\n",
        "        Q1 = np.percentile(df[column], 25)\n",
        "        # 3rd quartile (75%)\n",
        "        Q3 = np.percentile(df[column],75)\n",
        "\n",
        "        # Interquartile range (IQR)\n",
        "        IQR = Q3 - Q1\n",
        "\n",
        "        # outlier step\n",
        "        outlier_step = 1.5 * IQR\n",
        "\n",
        "        # Determining a list of indices of outliers\n",
        "        outlier_list_column = df[(df[column] < Q1 - outlier_step) | (df[column] > Q3 + outlier_step )].index\n",
        "\n",
        "        # appending the list of outliers\n",
        "        outlier_list.extend(outlier_list_column)\n",
        "\n",
        "    # selecting observations containing more than x outliers\n",
        "    outlier_list = Counter(outlier_list)\n",
        "    multiple_outliers = list( k for k, v in outlier_list.items() if v > n )\n",
        "\n",
        "    # Calculate the number of records below and above lower and above bound value respectively\n",
        "    df1 = df[df[column] < Q1 - outlier_step]\n",
        "    df2 = df[df[column] > Q3 + outlier_step]\n",
        "\n",
        "    print('Total number of deleted outliers:', df1.shape[0]+df2.shape[0])\n",
        "\n",
        "    return multiple_outliers"
      ]
    },
    {
      "cell_type": "code",
      "execution_count": 13,
      "id": "096b2aed",
      "metadata": {
        "id": "096b2aed",
        "colab": {
          "base_uri": "https://localhost:8080/"
        },
        "outputId": "47df9360-77cc-4c5b-cc8a-eba983f4be66"
      },
      "outputs": [
        {
          "output_type": "stream",
          "name": "stdout",
          "text": [
            "Total number of deleted outliers: 2533\n"
          ]
        }
      ],
      "source": [
        "numeric_columns2 = ['Total Volume', 'Total Bags']\n",
        "\n",
        "Outliers_IQR = IQR_method(df1,1,numeric_columns2)\n",
        "# dropping outliers\n",
        "df1 = df1.drop(Outliers_IQR, axis = 0).reset_index(drop=True)"
      ]
    },
    {
      "cell_type": "markdown",
      "id": "f0482804",
      "metadata": {
        "id": "f0482804"
      },
      "source": [
        "## 5.3 Train test split"
      ]
    },
    {
      "cell_type": "code",
      "execution_count": 14,
      "id": "6bf1abeb",
      "metadata": {
        "id": "6bf1abeb"
      },
      "outputs": [],
      "source": [
        "X = df1.drop('AveragePrice', axis=1)\n",
        "y = df1['AveragePrice']"
      ]
    },
    {
      "cell_type": "code",
      "execution_count": 15,
      "id": "1fd189a6",
      "metadata": {
        "id": "1fd189a6"
      },
      "outputs": [],
      "source": [
        "from sklearn.model_selection import train_test_split\n",
        "X_train, X_test, y_train, y_test = train_test_split(X, y, test_size = 0.3, random_state = 42)"
      ]
    },
    {
      "cell_type": "markdown",
      "id": "06c8af11",
      "metadata": {
        "id": "06c8af11"
      },
      "source": [
        "## 5.4 Feature scaling"
      ]
    },
    {
      "cell_type": "code",
      "execution_count": 16,
      "id": "701576a7",
      "metadata": {
        "id": "701576a7"
      },
      "outputs": [],
      "source": [
        "from sklearn.preprocessing import StandardScaler\n",
        "\n",
        "# Creating function for scaling\n",
        "def Standard_Scaler (df, col_names):\n",
        "    features = df[col_names]\n",
        "    scaler = StandardScaler().fit(features.values)\n",
        "    features = scaler.transform(features.values)\n",
        "    df[col_names] = features\n",
        "\n",
        "    return df"
      ]
    },
    {
      "cell_type": "code",
      "execution_count": 17,
      "id": "67f6d360",
      "metadata": {
        "id": "67f6d360"
      },
      "outputs": [],
      "source": [
        "col_names = ['Total Volume', 'Total Bags']\n",
        "X_train = Standard_Scaler (X_train, col_names)\n",
        "X_test = Standard_Scaler (X_test, col_names)"
      ]
    },
    {
      "cell_type": "markdown",
      "id": "3a9cd14a",
      "metadata": {
        "id": "3a9cd14a"
      },
      "source": [
        "# 6. Comparing different models"
      ]
    },
    {
      "cell_type": "markdown",
      "id": "6be45494",
      "metadata": {
        "id": "6be45494"
      },
      "source": [
        "## 6.1 Linear Regression"
      ]
    },
    {
      "cell_type": "code",
      "execution_count": 18,
      "id": "4391243a",
      "metadata": {
        "id": "4391243a"
      },
      "outputs": [],
      "source": [
        "from sklearn.linear_model import LinearRegression\n",
        "\n",
        "# Creating and training model\n",
        "lm = LinearRegression()\n",
        "lm.fit(X_train, y_train)\n",
        "\n",
        "# Model making a prediction on test data\n",
        "y_pred = lm.predict(X_test)"
      ]
    },
    {
      "cell_type": "markdown",
      "id": "c78806a3",
      "metadata": {
        "id": "c78806a3"
      },
      "source": [
        "### Linear Regression performance for Avocado dataset"
      ]
    },
    {
      "cell_type": "code",
      "execution_count": 19,
      "id": "8ef7382e",
      "metadata": {
        "id": "8ef7382e",
        "colab": {
          "base_uri": "https://localhost:8080/",
          "height": 89
        },
        "outputId": "92cc1408-0e20-4fa0-c460-08b500708d5a"
      },
      "outputs": [
        {
          "output_type": "execute_result",
          "data": {
            "text/plain": [
              "               Model  R2 Score  Adjusted R2 Score  Cross Validated R2 Score  \\\n",
              "0  Linear Regression  0.598793           0.593598                  0.604281   \n",
              "\n",
              "       RMSE  \n",
              "0  0.255931  "
            ],
            "text/html": [
              "\n",
              "  <div id=\"df-0e2d1146-5557-48ca-a41e-a8e9aff871c0\" class=\"colab-df-container\">\n",
              "    <div>\n",
              "<style scoped>\n",
              "    .dataframe tbody tr th:only-of-type {\n",
              "        vertical-align: middle;\n",
              "    }\n",
              "\n",
              "    .dataframe tbody tr th {\n",
              "        vertical-align: top;\n",
              "    }\n",
              "\n",
              "    .dataframe thead th {\n",
              "        text-align: right;\n",
              "    }\n",
              "</style>\n",
              "<table border=\"1\" class=\"dataframe\">\n",
              "  <thead>\n",
              "    <tr style=\"text-align: right;\">\n",
              "      <th></th>\n",
              "      <th>Model</th>\n",
              "      <th>R2 Score</th>\n",
              "      <th>Adjusted R2 Score</th>\n",
              "      <th>Cross Validated R2 Score</th>\n",
              "      <th>RMSE</th>\n",
              "    </tr>\n",
              "  </thead>\n",
              "  <tbody>\n",
              "    <tr>\n",
              "      <th>0</th>\n",
              "      <td>Linear Regression</td>\n",
              "      <td>0.598793</td>\n",
              "      <td>0.593598</td>\n",
              "      <td>0.604281</td>\n",
              "      <td>0.255931</td>\n",
              "    </tr>\n",
              "  </tbody>\n",
              "</table>\n",
              "</div>\n",
              "    <div class=\"colab-df-buttons\">\n",
              "\n",
              "  <div class=\"colab-df-container\">\n",
              "    <button class=\"colab-df-convert\" onclick=\"convertToInteractive('df-0e2d1146-5557-48ca-a41e-a8e9aff871c0')\"\n",
              "            title=\"Convert this dataframe to an interactive table.\"\n",
              "            style=\"display:none;\">\n",
              "\n",
              "  <svg xmlns=\"http://www.w3.org/2000/svg\" height=\"24px\" viewBox=\"0 -960 960 960\">\n",
              "    <path d=\"M120-120v-720h720v720H120Zm60-500h600v-160H180v160Zm220 220h160v-160H400v160Zm0 220h160v-160H400v160ZM180-400h160v-160H180v160Zm440 0h160v-160H620v160ZM180-180h160v-160H180v160Zm440 0h160v-160H620v160Z\"/>\n",
              "  </svg>\n",
              "    </button>\n",
              "\n",
              "  <style>\n",
              "    .colab-df-container {\n",
              "      display:flex;\n",
              "      gap: 12px;\n",
              "    }\n",
              "\n",
              "    .colab-df-convert {\n",
              "      background-color: #E8F0FE;\n",
              "      border: none;\n",
              "      border-radius: 50%;\n",
              "      cursor: pointer;\n",
              "      display: none;\n",
              "      fill: #1967D2;\n",
              "      height: 32px;\n",
              "      padding: 0 0 0 0;\n",
              "      width: 32px;\n",
              "    }\n",
              "\n",
              "    .colab-df-convert:hover {\n",
              "      background-color: #E2EBFA;\n",
              "      box-shadow: 0px 1px 2px rgba(60, 64, 67, 0.3), 0px 1px 3px 1px rgba(60, 64, 67, 0.15);\n",
              "      fill: #174EA6;\n",
              "    }\n",
              "\n",
              "    .colab-df-buttons div {\n",
              "      margin-bottom: 4px;\n",
              "    }\n",
              "\n",
              "    [theme=dark] .colab-df-convert {\n",
              "      background-color: #3B4455;\n",
              "      fill: #D2E3FC;\n",
              "    }\n",
              "\n",
              "    [theme=dark] .colab-df-convert:hover {\n",
              "      background-color: #434B5C;\n",
              "      box-shadow: 0px 1px 3px 1px rgba(0, 0, 0, 0.15);\n",
              "      filter: drop-shadow(0px 1px 2px rgba(0, 0, 0, 0.3));\n",
              "      fill: #FFFFFF;\n",
              "    }\n",
              "  </style>\n",
              "\n",
              "    <script>\n",
              "      const buttonEl =\n",
              "        document.querySelector('#df-0e2d1146-5557-48ca-a41e-a8e9aff871c0 button.colab-df-convert');\n",
              "      buttonEl.style.display =\n",
              "        google.colab.kernel.accessAllowed ? 'block' : 'none';\n",
              "\n",
              "      async function convertToInteractive(key) {\n",
              "        const element = document.querySelector('#df-0e2d1146-5557-48ca-a41e-a8e9aff871c0');\n",
              "        const dataTable =\n",
              "          await google.colab.kernel.invokeFunction('convertToInteractive',\n",
              "                                                    [key], {});\n",
              "        if (!dataTable) return;\n",
              "\n",
              "        const docLinkHtml = 'Like what you see? Visit the ' +\n",
              "          '<a target=\"_blank\" href=https://colab.research.google.com/notebooks/data_table.ipynb>data table notebook</a>'\n",
              "          + ' to learn more about interactive tables.';\n",
              "        element.innerHTML = '';\n",
              "        dataTable['output_type'] = 'display_data';\n",
              "        await google.colab.output.renderOutput(dataTable, element);\n",
              "        const docLink = document.createElement('div');\n",
              "        docLink.innerHTML = docLinkHtml;\n",
              "        element.appendChild(docLink);\n",
              "      }\n",
              "    </script>\n",
              "  </div>\n",
              "\n",
              "\n",
              "  <div id=\"id_81f73790-8576-41dc-bb0a-afb69344c19f\">\n",
              "    <style>\n",
              "      .colab-df-generate {\n",
              "        background-color: #E8F0FE;\n",
              "        border: none;\n",
              "        border-radius: 50%;\n",
              "        cursor: pointer;\n",
              "        display: none;\n",
              "        fill: #1967D2;\n",
              "        height: 32px;\n",
              "        padding: 0 0 0 0;\n",
              "        width: 32px;\n",
              "      }\n",
              "\n",
              "      .colab-df-generate:hover {\n",
              "        background-color: #E2EBFA;\n",
              "        box-shadow: 0px 1px 2px rgba(60, 64, 67, 0.3), 0px 1px 3px 1px rgba(60, 64, 67, 0.15);\n",
              "        fill: #174EA6;\n",
              "      }\n",
              "\n",
              "      [theme=dark] .colab-df-generate {\n",
              "        background-color: #3B4455;\n",
              "        fill: #D2E3FC;\n",
              "      }\n",
              "\n",
              "      [theme=dark] .colab-df-generate:hover {\n",
              "        background-color: #434B5C;\n",
              "        box-shadow: 0px 1px 3px 1px rgba(0, 0, 0, 0.15);\n",
              "        filter: drop-shadow(0px 1px 2px rgba(0, 0, 0, 0.3));\n",
              "        fill: #FFFFFF;\n",
              "      }\n",
              "    </style>\n",
              "    <button class=\"colab-df-generate\" onclick=\"generateWithVariable('lm_score')\"\n",
              "            title=\"Generate code using this dataframe.\"\n",
              "            style=\"display:none;\">\n",
              "\n",
              "  <svg xmlns=\"http://www.w3.org/2000/svg\" height=\"24px\"viewBox=\"0 0 24 24\"\n",
              "       width=\"24px\">\n",
              "    <path d=\"M7,19H8.4L18.45,9,17,7.55,7,17.6ZM5,21V16.75L18.45,3.32a2,2,0,0,1,2.83,0l1.4,1.43a1.91,1.91,0,0,1,.58,1.4,1.91,1.91,0,0,1-.58,1.4L9.25,21ZM18.45,9,17,7.55Zm-12,3A5.31,5.31,0,0,0,4.9,8.1,5.31,5.31,0,0,0,1,6.5,5.31,5.31,0,0,0,4.9,4.9,5.31,5.31,0,0,0,6.5,1,5.31,5.31,0,0,0,8.1,4.9,5.31,5.31,0,0,0,12,6.5,5.46,5.46,0,0,0,6.5,12Z\"/>\n",
              "  </svg>\n",
              "    </button>\n",
              "    <script>\n",
              "      (() => {\n",
              "      const buttonEl =\n",
              "        document.querySelector('#id_81f73790-8576-41dc-bb0a-afb69344c19f button.colab-df-generate');\n",
              "      buttonEl.style.display =\n",
              "        google.colab.kernel.accessAllowed ? 'block' : 'none';\n",
              "\n",
              "      buttonEl.onclick = () => {\n",
              "        google.colab.notebook.generateWithVariable('lm_score');\n",
              "      }\n",
              "      })();\n",
              "    </script>\n",
              "  </div>\n",
              "\n",
              "    </div>\n",
              "  </div>\n"
            ],
            "application/vnd.google.colaboratory.intrinsic+json": {
              "type": "dataframe",
              "variable_name": "lm_score",
              "summary": "{\n  \"name\": \"lm_score\",\n  \"rows\": 1,\n  \"fields\": [\n    {\n      \"column\": \"Model\",\n      \"properties\": {\n        \"dtype\": \"string\",\n        \"num_unique_values\": 1,\n        \"samples\": [\n          \"Linear Regression\"\n        ],\n        \"semantic_type\": \"\",\n        \"description\": \"\"\n      }\n    },\n    {\n      \"column\": \"R2 Score\",\n      \"properties\": {\n        \"dtype\": \"number\",\n        \"std\": null,\n        \"min\": 0.5987934342056856,\n        \"max\": 0.5987934342056856,\n        \"num_unique_values\": 1,\n        \"samples\": [\n          0.5987934342056856\n        ],\n        \"semantic_type\": \"\",\n        \"description\": \"\"\n      }\n    },\n    {\n      \"column\": \"Adjusted R2 Score\",\n      \"properties\": {\n        \"dtype\": \"number\",\n        \"std\": null,\n        \"min\": 0.593598194631908,\n        \"max\": 0.593598194631908,\n        \"num_unique_values\": 1,\n        \"samples\": [\n          0.593598194631908\n        ],\n        \"semantic_type\": \"\",\n        \"description\": \"\"\n      }\n    },\n    {\n      \"column\": \"Cross Validated R2 Score\",\n      \"properties\": {\n        \"dtype\": \"number\",\n        \"std\": null,\n        \"min\": 0.6042812249582874,\n        \"max\": 0.6042812249582874,\n        \"num_unique_values\": 1,\n        \"samples\": [\n          0.6042812249582874\n        ],\n        \"semantic_type\": \"\",\n        \"description\": \"\"\n      }\n    },\n    {\n      \"column\": \"RMSE\",\n      \"properties\": {\n        \"dtype\": \"number\",\n        \"std\": null,\n        \"min\": 0.2559307393754634,\n        \"max\": 0.2559307393754634,\n        \"num_unique_values\": 1,\n        \"samples\": [\n          0.2559307393754634\n        ],\n        \"semantic_type\": \"\",\n        \"description\": \"\"\n      }\n    }\n  ]\n}"
            }
          },
          "metadata": {},
          "execution_count": 19
        }
      ],
      "source": [
        "ndf = [Reg_Models_Evaluation_Metrics(lm,X_train,y_train,X_test,y_test,y_pred)]\n",
        "\n",
        "lm_score = pd.DataFrame(data = ndf, columns=['R2 Score','Adjusted R2 Score','Cross Validated R2 Score','RMSE'])\n",
        "lm_score.insert(0, 'Model', 'Linear Regression')\n",
        "lm_score"
      ]
    },
    {
      "cell_type": "code",
      "execution_count": 20,
      "id": "d060b06d",
      "metadata": {
        "id": "d060b06d",
        "colab": {
          "base_uri": "https://localhost:8080/",
          "height": 512
        },
        "outputId": "3e3ebcbb-a643-4e60-baf1-52be99389a42"
      },
      "outputs": [
        {
          "output_type": "execute_result",
          "data": {
            "text/plain": [
              "Text(0.5, 1.0, 'Linear regression for Avocado dataset')"
            ]
          },
          "metadata": {},
          "execution_count": 20
        },
        {
          "output_type": "display_data",
          "data": {
            "text/plain": [
              "<Figure size 1000x500 with 1 Axes>"
            ],
            "image/png": "[encoded data removed]"
          },
          "metadata": {}
        }
      ],
      "source": [
        "plt.figure(figsize = (10,5))\n",
        "sns.regplot(x=y_test,y=y_pred)\n",
        "plt.title('Linear regression for Avocado dataset', fontsize = 20)"
      ]
    },
    {
      "cell_type": "markdown",
      "id": "252fdcb7",
      "metadata": {
        "id": "252fdcb7"
      },
      "source": [
        "## 6.2 Random Forest"
      ]
    },
    {
      "cell_type": "code",
      "execution_count": 21,
      "id": "6a4a7be3",
      "metadata": {
        "id": "6a4a7be3"
      },
      "outputs": [],
      "source": [
        "from sklearn.ensemble import RandomForestRegressor\n",
        "\n",
        "# Creating and training model\n",
        "RandomForest_reg = RandomForestRegressor(n_estimators = 10, random_state = 0)"
      ]
    },
    {
      "cell_type": "markdown",
      "id": "a93e688e",
      "metadata": {
        "id": "a93e688e"
      },
      "source": [
        "### Random Forest performance for Avocado dataset"
      ]
    },
    {
      "cell_type": "code",
      "execution_count": 22,
      "id": "30b684e0",
      "metadata": {
        "id": "30b684e0"
      },
      "outputs": [],
      "source": [
        "RandomForest_reg.fit(X_train, y_train)\n",
        "# Model making a prediction on test data\n",
        "y_pred = RandomForest_reg.predict(X_test)"
      ]
    },
    {
      "cell_type": "code",
      "execution_count": 23,
      "id": "c4249362",
      "metadata": {
        "id": "c4249362",
        "colab": {
          "base_uri": "https://localhost:8080/",
          "height": 89
        },
        "outputId": "9815ad5e-567c-4a6a-b063-238ec63c48f8"
      },
      "outputs": [
        {
          "output_type": "execute_result",
          "data": {
            "text/plain": [
              "           Model  R2 Score  Adjusted R2 Score  Cross Validated R2 Score  \\\n",
              "0  Random Forest   0.78712           0.784363                  0.876525   \n",
              "\n",
              "       RMSE  \n",
              "0  0.186426  "
            ],
            "text/html": [
              "\n",
              "  <div id=\"df-01f85393-1a9e-407b-8d34-d77a832f0297\" class=\"colab-df-container\">\n",
              "    <div>\n",
              "<style scoped>\n",
              "    .dataframe tbody tr th:only-of-type {\n",
              "        vertical-align: middle;\n",
              "    }\n",
              "\n",
              "    .dataframe tbody tr th {\n",
              "        vertical-align: top;\n",
              "    }\n",
              "\n",
              "    .dataframe thead th {\n",
              "        text-align: right;\n",
              "    }\n",
              "</style>\n",
              "<table border=\"1\" class=\"dataframe\">\n",
              "  <thead>\n",
              "    <tr style=\"text-align: right;\">\n",
              "      <th></th>\n",
              "      <th>Model</th>\n",
              "      <th>R2 Score</th>\n",
              "      <th>Adjusted R2 Score</th>\n",
              "      <th>Cross Validated R2 Score</th>\n",
              "      <th>RMSE</th>\n",
              "    </tr>\n",
              "  </thead>\n",
              "  <tbody>\n",
              "    <tr>\n",
              "      <th>0</th>\n",
              "      <td>Random Forest</td>\n",
              "      <td>0.78712</td>\n",
              "      <td>0.784363</td>\n",
              "      <td>0.876525</td>\n",
              "      <td>0.186426</td>\n",
              "    </tr>\n",
              "  </tbody>\n",
              "</table>\n",
              "</div>\n",
              "    <div class=\"colab-df-buttons\">\n",
              "\n",
              "  <div class=\"colab-df-container\">\n",
              "    <button class=\"colab-df-convert\" onclick=\"convertToInteractive('df-01f85393-1a9e-407b-8d34-d77a832f0297')\"\n",
              "            title=\"Convert this dataframe to an interactive table.\"\n",
              "            style=\"display:none;\">\n",
              "\n",
              "  <svg xmlns=\"http://www.w3.org/2000/svg\" height=\"24px\" viewBox=\"0 -960 960 960\">\n",
              "    <path d=\"M120-120v-720h720v720H120Zm60-500h600v-160H180v160Zm220 220h160v-160H400v160Zm0 220h160v-160H400v160ZM180-400h160v-160H180v160Zm440 0h160v-160H620v160ZM180-180h160v-160H180v160Zm440 0h160v-160H620v160Z\"/>\n",
              "  </svg>\n",
              "    </button>\n",
              "\n",
              "  <style>\n",
              "    .colab-df-container {\n",
              "      display:flex;\n",
              "      gap: 12px;\n",
              "    }\n",
              "\n",
              "    .colab-df-convert {\n",
              "      background-color: #E8F0FE;\n",
              "      border: none;\n",
              "      border-radius: 50%;\n",
              "      cursor: pointer;\n",
              "      display: none;\n",
              "      fill: #1967D2;\n",
              "      height: 32px;\n",
              "      padding: 0 0 0 0;\n",
              "      width: 32px;\n",
              "    }\n",
              "\n",
              "    .colab-df-convert:hover {\n",
              "      background-color: #E2EBFA;\n",
              "      box-shadow: 0px 1px 2px rgba(60, 64, 67, 0.3), 0px 1px 3px 1px rgba(60, 64, 67, 0.15);\n",
              "      fill: #174EA6;\n",
              "    }\n",
              "\n",
              "    .colab-df-buttons div {\n",
              "      margin-bottom: 4px;\n",
              "    }\n",
              "\n",
              "    [theme=dark] .colab-df-convert {\n",
              "      background-color: #3B4455;\n",
              "      fill: #D2E3FC;\n",
              "    }\n",
              "\n",
              "    [theme=dark] .colab-df-convert:hover {\n",
              "      background-color: #434B5C;\n",
              "      box-shadow: 0px 1px 3px 1px rgba(0, 0, 0, 0.15);\n",
              "      filter: drop-shadow(0px 1px 2px rgba(0, 0, 0, 0.3));\n",
              "      fill: #FFFFFF;\n",
              "    }\n",
              "  </style>\n",
              "\n",
              "    <script>\n",
              "      const buttonEl =\n",
              "        document.querySelector('#df-01f85393-1a9e-407b-8d34-d77a832f0297 button.colab-df-convert');\n",
              "      buttonEl.style.display =\n",
              "        google.colab.kernel.accessAllowed ? 'block' : 'none';\n",
              "\n",
              "      async function convertToInteractive(key) {\n",
              "        const element = document.querySelector('#df-01f85393-1a9e-407b-8d34-d77a832f0297');\n",
              "        const dataTable =\n",
              "          await google.colab.kernel.invokeFunction('convertToInteractive',\n",
              "                                                    [key], {});\n",
              "        if (!dataTable) return;\n",
              "\n",
              "        const docLinkHtml = 'Like what you see? Visit the ' +\n",
              "          '<a target=\"_blank\" href=https://colab.research.google.com/notebooks/data_table.ipynb>data table notebook</a>'\n",
              "          + ' to learn more about interactive tables.';\n",
              "        element.innerHTML = '';\n",
              "        dataTable['output_type'] = 'display_data';\n",
              "        await google.colab.output.renderOutput(dataTable, element);\n",
              "        const docLink = document.createElement('div');\n",
              "        docLink.innerHTML = docLinkHtml;\n",
              "        element.appendChild(docLink);\n",
              "      }\n",
              "    </script>\n",
              "  </div>\n",
              "\n",
              "\n",
              "  <div id=\"id_95577054-e89b-4df8-a859-adf631438988\">\n",
              "    <style>\n",
              "      .colab-df-generate {\n",
              "        background-color: #E8F0FE;\n",
              "        border: none;\n",
              "        border-radius: 50%;\n",
              "        cursor: pointer;\n",
              "        display: none;\n",
              "        fill: #1967D2;\n",
              "        height: 32px;\n",
              "        padding: 0 0 0 0;\n",
              "        width: 32px;\n",
              "      }\n",
              "\n",
              "      .colab-df-generate:hover {\n",
              "        background-color: #E2EBFA;\n",
              "        box-shadow: 0px 1px 2px rgba(60, 64, 67, 0.3), 0px 1px 3px 1px rgba(60, 64, 67, 0.15);\n",
              "        fill: #174EA6;\n",
              "      }\n",
              "\n",
              "      [theme=dark] .colab-df-generate {\n",
              "        background-color: #3B4455;\n",
              "        fill: #D2E3FC;\n",
              "      }\n",
              "\n",
              "      [theme=dark] .colab-df-generate:hover {\n",
              "        background-color: #434B5C;\n",
              "        box-shadow: 0px 1px 3px 1px rgba(0, 0, 0, 0.15);\n",
              "        filter: drop-shadow(0px 1px 2px rgba(0, 0, 0, 0.3));\n",
              "        fill: #FFFFFF;\n",
              "      }\n",
              "    </style>\n",
              "    <button class=\"colab-df-generate\" onclick=\"generateWithVariable('rf_score')\"\n",
              "            title=\"Generate code using this dataframe.\"\n",
              "            style=\"display:none;\">\n",
              "\n",
              "  <svg xmlns=\"http://www.w3.org/2000/svg\" height=\"24px\"viewBox=\"0 0 24 24\"\n",
              "       width=\"24px\">\n",
              "    <path d=\"M7,19H8.4L18.45,9,17,7.55,7,17.6ZM5,21V16.75L18.45,3.32a2,2,0,0,1,2.83,0l1.4,1.43a1.91,1.91,0,0,1,.58,1.4,1.91,1.91,0,0,1-.58,1.4L9.25,21ZM18.45,9,17,7.55Zm-12,3A5.31,5.31,0,0,0,4.9,8.1,5.31,5.31,0,0,0,1,6.5,5.31,5.31,0,0,0,4.9,4.9,5.31,5.31,0,0,0,6.5,1,5.31,5.31,0,0,0,8.1,4.9,5.31,5.31,0,0,0,12,6.5,5.46,5.46,0,0,0,6.5,12Z\"/>\n",
              "  </svg>\n",
              "    </button>\n",
              "    <script>\n",
              "      (() => {\n",
              "      const buttonEl =\n",
              "        document.querySelector('#id_95577054-e89b-4df8-a859-adf631438988 button.colab-df-generate');\n",
              "      buttonEl.style.display =\n",
              "        google.colab.kernel.accessAllowed ? 'block' : 'none';\n",
              "\n",
              "      buttonEl.onclick = () => {\n",
              "        google.colab.notebook.generateWithVariable('rf_score');\n",
              "      }\n",
              "      })();\n",
              "    </script>\n",
              "  </div>\n",
              "\n",
              "    </div>\n",
              "  </div>\n"
            ],
            "application/vnd.google.colaboratory.intrinsic+json": {
              "type": "dataframe",
              "variable_name": "rf_score",
              "summary": "{\n  \"name\": \"rf_score\",\n  \"rows\": 1,\n  \"fields\": [\n    {\n      \"column\": \"Model\",\n      \"properties\": {\n        \"dtype\": \"string\",\n        \"num_unique_values\": 1,\n        \"samples\": [\n          \"Random Forest\"\n        ],\n        \"semantic_type\": \"\",\n        \"description\": \"\"\n      }\n    },\n    {\n      \"column\": \"R2 Score\",\n      \"properties\": {\n        \"dtype\": \"number\",\n        \"std\": null,\n        \"min\": 0.7871196849090872,\n        \"max\": 0.7871196849090872,\n        \"num_unique_values\": 1,\n        \"samples\": [\n          0.7871196849090872\n        ],\n        \"semantic_type\": \"\",\n        \"description\": \"\"\n      }\n    },\n    {\n      \"column\": \"Adjusted R2 Score\",\n      \"properties\": {\n        \"dtype\": \"number\",\n        \"std\": null,\n        \"min\": 0.7843630893502659,\n        \"max\": 0.7843630893502659,\n        \"num_unique_values\": 1,\n        \"samples\": [\n          0.7843630893502659\n        ],\n        \"semantic_type\": \"\",\n        \"description\": \"\"\n      }\n    },\n    {\n      \"column\": \"Cross Validated R2 Score\",\n      \"properties\": {\n        \"dtype\": \"number\",\n        \"std\": null,\n        \"min\": 0.87652481037767,\n        \"max\": 0.87652481037767,\n        \"num_unique_values\": 1,\n        \"samples\": [\n          0.87652481037767\n        ],\n        \"semantic_type\": \"\",\n        \"description\": \"\"\n      }\n    },\n    {\n      \"column\": \"RMSE\",\n      \"properties\": {\n        \"dtype\": \"number\",\n        \"std\": null,\n        \"min\": 0.18642587393624357,\n        \"max\": 0.18642587393624357,\n        \"num_unique_values\": 1,\n        \"samples\": [\n          0.18642587393624357\n        ],\n        \"semantic_type\": \"\",\n        \"description\": \"\"\n      }\n    }\n  ]\n}"
            }
          },
          "metadata": {},
          "execution_count": 23
        }
      ],
      "source": [
        "ndf = [Reg_Models_Evaluation_Metrics(RandomForest_reg,X_train,y_train,X_test,y_test,y_pred)]\n",
        "\n",
        "rf_score = pd.DataFrame(data = ndf, columns=['R2 Score','Adjusted R2 Score','Cross Validated R2 Score','RMSE'])\n",
        "rf_score.insert(0, 'Model', 'Random Forest')\n",
        "rf_score"
      ]
    },
    {
      "cell_type": "markdown",
      "id": "aecbf2db",
      "metadata": {
        "id": "aecbf2db"
      },
      "source": [
        "## 6.3 Ridge Regression"
      ]
    },
    {
      "cell_type": "code",
      "execution_count": 24,
      "id": "f04e470a",
      "metadata": {
        "id": "f04e470a"
      },
      "outputs": [],
      "source": [
        "from sklearn.linear_model import Ridge\n",
        "\n",
        "# Creating and training model\n",
        "ridge_reg = Ridge(alpha=3, solver=\"cholesky\")"
      ]
    },
    {
      "cell_type": "markdown",
      "id": "644026b1",
      "metadata": {
        "id": "644026b1"
      },
      "source": [
        "### Ridge Regression performance for Avocado dataset"
      ]
    },
    {
      "cell_type": "code",
      "execution_count": 25,
      "id": "3e305cb0",
      "metadata": {
        "id": "3e305cb0"
      },
      "outputs": [],
      "source": [
        "ridge_reg.fit(X_train, y_train)\n",
        "# Model making a prediction on test data\n",
        "y_pred = ridge_reg.predict(X_test)"
      ]
    },
    {
      "cell_type": "code",
      "execution_count": 26,
      "id": "59f19a13",
      "metadata": {
        "id": "59f19a13",
        "colab": {
          "base_uri": "https://localhost:8080/",
          "height": 89
        },
        "outputId": "23d3656d-1b24-4db3-9f91-d9b11c8f0d06"
      },
      "outputs": [
        {
          "output_type": "execute_result",
          "data": {
            "text/plain": [
              "              Model  R2 Score  Adjusted R2 Score  Cross Validated R2 Score  \\\n",
              "0  Ridge Regression  0.598733           0.593537                  0.604317   \n",
              "\n",
              "      RMSE  \n",
              "0  0.25595  "
            ],
            "text/html": [
              "\n",
              "  <div id=\"df-62ab98be-e104-4dac-aaec-be0e7cd1eb1a\" class=\"colab-df-container\">\n",
              "    <div>\n",
              "<style scoped>\n",
              "    .dataframe tbody tr th:only-of-type {\n",
              "        vertical-align: middle;\n",
              "    }\n",
              "\n",
              "    .dataframe tbody tr th {\n",
              "        vertical-align: top;\n",
              "    }\n",
              "\n",
              "    .dataframe thead th {\n",
              "        text-align: right;\n",
              "    }\n",
              "</style>\n",
              "<table border=\"1\" class=\"dataframe\">\n",
              "  <thead>\n",
              "    <tr style=\"text-align: right;\">\n",
              "      <th></th>\n",
              "      <th>Model</th>\n",
              "      <th>R2 Score</th>\n",
              "      <th>Adjusted R2 Score</th>\n",
              "      <th>Cross Validated R2 Score</th>\n",
              "      <th>RMSE</th>\n",
              "    </tr>\n",
              "  </thead>\n",
              "  <tbody>\n",
              "    <tr>\n",
              "      <th>0</th>\n",
              "      <td>Ridge Regression</td>\n",
              "      <td>0.598733</td>\n",
              "      <td>0.593537</td>\n",
              "      <td>0.604317</td>\n",
              "      <td>0.25595</td>\n",
              "    </tr>\n",
              "  </tbody>\n",
              "</table>\n",
              "</div>\n",
              "    <div class=\"colab-df-buttons\">\n",
              "\n",
              "  <div class=\"colab-df-container\">\n",
              "    <button class=\"colab-df-convert\" onclick=\"convertToInteractive('df-62ab98be-e104-4dac-aaec-be0e7cd1eb1a')\"\n",
              "            title=\"Convert this dataframe to an interactive table.\"\n",
              "            style=\"display:none;\">\n",
              "\n",
              "  <svg xmlns=\"http://www.w3.org/2000/svg\" height=\"24px\" viewBox=\"0 -960 960 960\">\n",
              "    <path d=\"M120-120v-720h720v720H120Zm60-500h600v-160H180v160Zm220 220h160v-160H400v160Zm0 220h160v-160H400v160ZM180-400h160v-160H180v160Zm440 0h160v-160H620v160ZM180-180h160v-160H180v160Zm440 0h160v-160H620v160Z\"/>\n",
              "  </svg>\n",
              "    </button>\n",
              "\n",
              "  <style>\n",
              "    .colab-df-container {\n",
              "      display:flex;\n",
              "      gap: 12px;\n",
              "    }\n",
              "\n",
              "    .colab-df-convert {\n",
              "      background-color: #E8F0FE;\n",
              "      border: none;\n",
              "      border-radius: 50%;\n",
              "      cursor: pointer;\n",
              "      display: none;\n",
              "      fill: #1967D2;\n",
              "      height: 32px;\n",
              "      padding: 0 0 0 0;\n",
              "      width: 32px;\n",
              "    }\n",
              "\n",
              "    .colab-df-convert:hover {\n",
              "      background-color: #E2EBFA;\n",
              "      box-shadow: 0px 1px 2px rgba(60, 64, 67, 0.3), 0px 1px 3px 1px rgba(60, 64, 67, 0.15);\n",
              "      fill: #174EA6;\n",
              "    }\n",
              "\n",
              "    .colab-df-buttons div {\n",
              "      margin-bottom: 4px;\n",
              "    }\n",
              "\n",
              "    [theme=dark] .colab-df-convert {\n",
              "      background-color: #3B4455;\n",
              "      fill: #D2E3FC;\n",
              "    }\n",
              "\n",
              "    [theme=dark] .colab-df-convert:hover {\n",
              "      background-color: #434B5C;\n",
              "      box-shadow: 0px 1px 3px 1px rgba(0, 0, 0, 0.15);\n",
              "      filter: drop-shadow(0px 1px 2px rgba(0, 0, 0, 0.3));\n",
              "      fill: #FFFFFF;\n",
              "    }\n",
              "  </style>\n",
              "\n",
              "    <script>\n",
              "      const buttonEl =\n",
              "        document.querySelector('#df-62ab98be-e104-4dac-aaec-be0e7cd1eb1a button.colab-df-convert');\n",
              "      buttonEl.style.display =\n",
              "        google.colab.kernel.accessAllowed ? 'block' : 'none';\n",
              "\n",
              "      async function convertToInteractive(key) {\n",
              "        const element = document.querySelector('#df-62ab98be-e104-4dac-aaec-be0e7cd1eb1a');\n",
              "        const dataTable =\n",
              "          await google.colab.kernel.invokeFunction('convertToInteractive',\n",
              "                                                    [key], {});\n",
              "        if (!dataTable) return;\n",
              "\n",
              "        const docLinkHtml = 'Like what you see? Visit the ' +\n",
              "          '<a target=\"_blank\" href=https://colab.research.google.com/notebooks/data_table.ipynb>data table notebook</a>'\n",
              "          + ' to learn more about interactive tables.';\n",
              "        element.innerHTML = '';\n",
              "        dataTable['output_type'] = 'display_data';\n",
              "        await google.colab.output.renderOutput(dataTable, element);\n",
              "        const docLink = document.createElement('div');\n",
              "        docLink.innerHTML = docLinkHtml;\n",
              "        element.appendChild(docLink);\n",
              "      }\n",
              "    </script>\n",
              "  </div>\n",
              "\n",
              "\n",
              "  <div id=\"id_56170c9b-414d-47ec-a446-2aade1ada803\">\n",
              "    <style>\n",
              "      .colab-df-generate {\n",
              "        background-color: #E8F0FE;\n",
              "        border: none;\n",
              "        border-radius: 50%;\n",
              "        cursor: pointer;\n",
              "        display: none;\n",
              "        fill: #1967D2;\n",
              "        height: 32px;\n",
              "        padding: 0 0 0 0;\n",
              "        width: 32px;\n",
              "      }\n",
              "\n",
              "      .colab-df-generate:hover {\n",
              "        background-color: #E2EBFA;\n",
              "        box-shadow: 0px 1px 2px rgba(60, 64, 67, 0.3), 0px 1px 3px 1px rgba(60, 64, 67, 0.15);\n",
              "        fill: #174EA6;\n",
              "      }\n",
              "\n",
              "      [theme=dark] .colab-df-generate {\n",
              "        background-color: #3B4455;\n",
              "        fill: #D2E3FC;\n",
              "      }\n",
              "\n",
              "      [theme=dark] .colab-df-generate:hover {\n",
              "        background-color: #434B5C;\n",
              "        box-shadow: 0px 1px 3px 1px rgba(0, 0, 0, 0.15);\n",
              "        filter: drop-shadow(0px 1px 2px rgba(0, 0, 0, 0.3));\n",
              "        fill: #FFFFFF;\n",
              "      }\n",
              "    </style>\n",
              "    <button class=\"colab-df-generate\" onclick=\"generateWithVariable('rr_score')\"\n",
              "            title=\"Generate code using this dataframe.\"\n",
              "            style=\"display:none;\">\n",
              "\n",
              "  <svg xmlns=\"http://www.w3.org/2000/svg\" height=\"24px\"viewBox=\"0 0 24 24\"\n",
              "       width=\"24px\">\n",
              "    <path d=\"M7,19H8.4L18.45,9,17,7.55,7,17.6ZM5,21V16.75L18.45,3.32a2,2,0,0,1,2.83,0l1.4,1.43a1.91,1.91,0,0,1,.58,1.4,1.91,1.91,0,0,1-.58,1.4L9.25,21ZM18.45,9,17,7.55Zm-12,3A5.31,5.31,0,0,0,4.9,8.1,5.31,5.31,0,0,0,1,6.5,5.31,5.31,0,0,0,4.9,4.9,5.31,5.31,0,0,0,6.5,1,5.31,5.31,0,0,0,8.1,4.9,5.31,5.31,0,0,0,12,6.5,5.46,5.46,0,0,0,6.5,12Z\"/>\n",
              "  </svg>\n",
              "    </button>\n",
              "    <script>\n",
              "      (() => {\n",
              "      const buttonEl =\n",
              "        document.querySelector('#id_56170c9b-414d-47ec-a446-2aade1ada803 button.colab-df-generate');\n",
              "      buttonEl.style.display =\n",
              "        google.colab.kernel.accessAllowed ? 'block' : 'none';\n",
              "\n",
              "      buttonEl.onclick = () => {\n",
              "        google.colab.notebook.generateWithVariable('rr_score');\n",
              "      }\n",
              "      })();\n",
              "    </script>\n",
              "  </div>\n",
              "\n",
              "    </div>\n",
              "  </div>\n"
            ],
            "application/vnd.google.colaboratory.intrinsic+json": {
              "type": "dataframe",
              "variable_name": "rr_score",
              "summary": "{\n  \"name\": \"rr_score\",\n  \"rows\": 1,\n  \"fields\": [\n    {\n      \"column\": \"Model\",\n      \"properties\": {\n        \"dtype\": \"string\",\n        \"num_unique_values\": 1,\n        \"samples\": [\n          \"Ridge Regression\"\n        ],\n        \"semantic_type\": \"\",\n        \"description\": \"\"\n      }\n    },\n    {\n      \"column\": \"R2 Score\",\n      \"properties\": {\n        \"dtype\": \"number\",\n        \"std\": null,\n        \"min\": 0.5987330050937683,\n        \"max\": 0.5987330050937683,\n        \"num_unique_values\": 1,\n        \"samples\": [\n          0.5987330050937683\n        ],\n        \"semantic_type\": \"\",\n        \"description\": \"\"\n      }\n    },\n    {\n      \"column\": \"Adjusted R2 Score\",\n      \"properties\": {\n        \"dtype\": \"number\",\n        \"std\": null,\n        \"min\": 0.5935369830210476,\n        \"max\": 0.5935369830210476,\n        \"num_unique_values\": 1,\n        \"samples\": [\n          0.5935369830210476\n        ],\n        \"semantic_type\": \"\",\n        \"description\": \"\"\n      }\n    },\n    {\n      \"column\": \"Cross Validated R2 Score\",\n      \"properties\": {\n        \"dtype\": \"number\",\n        \"std\": null,\n        \"min\": 0.6043172359723595,\n        \"max\": 0.6043172359723595,\n        \"num_unique_values\": 1,\n        \"samples\": [\n          0.6043172359723595\n        ],\n        \"semantic_type\": \"\",\n        \"description\": \"\"\n      }\n    },\n    {\n      \"column\": \"RMSE\",\n      \"properties\": {\n        \"dtype\": \"number\",\n        \"std\": null,\n        \"min\": 0.25595001259567146,\n        \"max\": 0.25595001259567146,\n        \"num_unique_values\": 1,\n        \"samples\": [\n          0.25595001259567146\n        ],\n        \"semantic_type\": \"\",\n        \"description\": \"\"\n      }\n    }\n  ]\n}"
            }
          },
          "metadata": {},
          "execution_count": 26
        }
      ],
      "source": [
        "ndf = [Reg_Models_Evaluation_Metrics(ridge_reg,X_train,y_train,X_test,y_test,y_pred)]\n",
        "\n",
        "rr_score = pd.DataFrame(data = ndf, columns=['R2 Score','Adjusted R2 Score','Cross Validated R2 Score','RMSE'])\n",
        "rr_score.insert(0, 'Model', 'Ridge Regression')\n",
        "rr_score"
      ]
    },
    {
      "cell_type": "markdown",
      "id": "ad319db4",
      "metadata": {
        "id": "ad319db4"
      },
      "source": [
        "## 6.4 XGBoost"
      ]
    },
    {
      "cell_type": "code",
      "execution_count": 27,
      "id": "ea92d68f",
      "metadata": {
        "id": "ea92d68f"
      },
      "outputs": [],
      "source": [
        "from xgboost import XGBRegressor\n",
        "# create an xgboost regression model\n",
        "XGBR = XGBRegressor(n_estimators=1000, max_depth=7, eta=0.1, subsample=0.8, colsample_bytree=0.8)"
      ]
    },
    {
      "cell_type": "markdown",
      "id": "5b4e04c4",
      "metadata": {
        "id": "5b4e04c4"
      },
      "source": [
        "### XGBoost performance for Avocado dataset"
      ]
    },
    {
      "cell_type": "code",
      "execution_count": 28,
      "id": "8c7da8ce",
      "metadata": {
        "id": "8c7da8ce"
      },
      "outputs": [],
      "source": [
        "XGBR.fit(X_train, y_train)\n",
        "# Model making a prediction on test data\n",
        "y_pred = XGBR.predict(X_test)"
      ]
    },
    {
      "cell_type": "code",
      "execution_count": 29,
      "id": "0de82a4b",
      "metadata": {
        "id": "0de82a4b",
        "colab": {
          "base_uri": "https://localhost:8080/",
          "height": 89
        },
        "outputId": "a272f548-0c57-4326-8b68-2160fc2a4b74"
      },
      "outputs": [
        {
          "output_type": "execute_result",
          "data": {
            "text/plain": [
              "     Model  R2 Score  Adjusted R2 Score  Cross Validated R2 Score      RMSE\n",
              "0  XGBoost  0.786301           0.783534                  0.914472  0.186784"
            ],
            "text/html": [
              "\n",
              "  <div id=\"df-482b73f9-ef9c-49c1-86c5-af73ecbe9377\" class=\"colab-df-container\">\n",
              "    <div>\n",
              "<style scoped>\n",
              "    .dataframe tbody tr th:only-of-type {\n",
              "        vertical-align: middle;\n",
              "    }\n",
              "\n",
              "    .dataframe tbody tr th {\n",
              "        vertical-align: top;\n",
              "    }\n",
              "\n",
              "    .dataframe thead th {\n",
              "        text-align: right;\n",
              "    }\n",
              "</style>\n",
              "<table border=\"1\" class=\"dataframe\">\n",
              "  <thead>\n",
              "    <tr style=\"text-align: right;\">\n",
              "      <th></th>\n",
              "      <th>Model</th>\n",
              "      <th>R2 Score</th>\n",
              "      <th>Adjusted R2 Score</th>\n",
              "      <th>Cross Validated R2 Score</th>\n",
              "      <th>RMSE</th>\n",
              "    </tr>\n",
              "  </thead>\n",
              "  <tbody>\n",
              "    <tr>\n",
              "      <th>0</th>\n",
              "      <td>XGBoost</td>\n",
              "      <td>0.786301</td>\n",
              "      <td>0.783534</td>\n",
              "      <td>0.914472</td>\n",
              "      <td>0.186784</td>\n",
              "    </tr>\n",
              "  </tbody>\n",
              "</table>\n",
              "</div>\n",
              "    <div class=\"colab-df-buttons\">\n",
              "\n",
              "  <div class=\"colab-df-container\">\n",
              "    <button class=\"colab-df-convert\" onclick=\"convertToInteractive('df-482b73f9-ef9c-49c1-86c5-af73ecbe9377')\"\n",
              "            title=\"Convert this dataframe to an interactive table.\"\n",
              "            style=\"display:none;\">\n",
              "\n",
              "  <svg xmlns=\"http://www.w3.org/2000/svg\" height=\"24px\" viewBox=\"0 -960 960 960\">\n",
              "    <path d=\"M120-120v-720h720v720H120Zm60-500h600v-160H180v160Zm220 220h160v-160H400v160Zm0 220h160v-160H400v160ZM180-400h160v-160H180v160Zm440 0h160v-160H620v160ZM180-180h160v-160H180v160Zm440 0h160v-160H620v160Z\"/>\n",
              "  </svg>\n",
              "    </button>\n",
              "\n",
              "  <style>\n",
              "    .colab-df-container {\n",
              "      display:flex;\n",
              "      gap: 12px;\n",
              "    }\n",
              "\n",
              "    .colab-df-convert {\n",
              "      background-color: #E8F0FE;\n",
              "      border: none;\n",
              "      border-radius: 50%;\n",
              "      cursor: pointer;\n",
              "      display: none;\n",
              "      fill: #1967D2;\n",
              "      height: 32px;\n",
              "      padding: 0 0 0 0;\n",
              "      width: 32px;\n",
              "    }\n",
              "\n",
              "    .colab-df-convert:hover {\n",
              "      background-color: #E2EBFA;\n",
              "      box-shadow: 0px 1px 2px rgba(60, 64, 67, 0.3), 0px 1px 3px 1px rgba(60, 64, 67, 0.15);\n",
              "      fill: #174EA6;\n",
              "    }\n",
              "\n",
              "    .colab-df-buttons div {\n",
              "      margin-bottom: 4px;\n",
              "    }\n",
              "\n",
              "    [theme=dark] .colab-df-convert {\n",
              "      background-color: #3B4455;\n",
              "      fill: #D2E3FC;\n",
              "    }\n",
              "\n",
              "    [theme=dark] .colab-df-convert:hover {\n",
              "      background-color: #434B5C;\n",
              "      box-shadow: 0px 1px 3px 1px rgba(0, 0, 0, 0.15);\n",
              "      filter: drop-shadow(0px 1px 2px rgba(0, 0, 0, 0.3));\n",
              "      fill: #FFFFFF;\n",
              "    }\n",
              "  </style>\n",
              "\n",
              "    <script>\n",
              "      const buttonEl =\n",
              "        document.querySelector('#df-482b73f9-ef9c-49c1-86c5-af73ecbe9377 button.colab-df-convert');\n",
              "      buttonEl.style.display =\n",
              "        google.colab.kernel.accessAllowed ? 'block' : 'none';\n",
              "\n",
              "      async function convertToInteractive(key) {\n",
              "        const element = document.querySelector('#df-482b73f9-ef9c-49c1-86c5-af73ecbe9377');\n",
              "        const dataTable =\n",
              "          await google.colab.kernel.invokeFunction('convertToInteractive',\n",
              "                                                    [key], {});\n",
              "        if (!dataTable) return;\n",
              "\n",
              "        const docLinkHtml = 'Like what you see? Visit the ' +\n",
              "          '<a target=\"_blank\" href=https://colab.research.google.com/notebooks/data_table.ipynb>data table notebook</a>'\n",
              "          + ' to learn more about interactive tables.';\n",
              "        element.innerHTML = '';\n",
              "        dataTable['output_type'] = 'display_data';\n",
              "        await google.colab.output.renderOutput(dataTable, element);\n",
              "        const docLink = document.createElement('div');\n",
              "        docLink.innerHTML = docLinkHtml;\n",
              "        element.appendChild(docLink);\n",
              "      }\n",
              "    </script>\n",
              "  </div>\n",
              "\n",
              "\n",
              "  <div id=\"id_53d54167-2e9d-45c6-98b7-b74d3fade915\">\n",
              "    <style>\n",
              "      .colab-df-generate {\n",
              "        background-color: #E8F0FE;\n",
              "        border: none;\n",
              "        border-radius: 50%;\n",
              "        cursor: pointer;\n",
              "        display: none;\n",
              "        fill: #1967D2;\n",
              "        height: 32px;\n",
              "        padding: 0 0 0 0;\n",
              "        width: 32px;\n",
              "      }\n",
              "\n",
              "      .colab-df-generate:hover {\n",
              "        background-color: #E2EBFA;\n",
              "        box-shadow: 0px 1px 2px rgba(60, 64, 67, 0.3), 0px 1px 3px 1px rgba(60, 64, 67, 0.15);\n",
              "        fill: #174EA6;\n",
              "      }\n",
              "\n",
              "      [theme=dark] .colab-df-generate {\n",
              "        background-color: #3B4455;\n",
              "        fill: #D2E3FC;\n",
              "      }\n",
              "\n",
              "      [theme=dark] .colab-df-generate:hover {\n",
              "        background-color: #434B5C;\n",
              "        box-shadow: 0px 1px 3px 1px rgba(0, 0, 0, 0.15);\n",
              "        filter: drop-shadow(0px 1px 2px rgba(0, 0, 0, 0.3));\n",
              "        fill: #FFFFFF;\n",
              "      }\n",
              "    </style>\n",
              "    <button class=\"colab-df-generate\" onclick=\"generateWithVariable('XGBR_score')\"\n",
              "            title=\"Generate code using this dataframe.\"\n",
              "            style=\"display:none;\">\n",
              "\n",
              "  <svg xmlns=\"http://www.w3.org/2000/svg\" height=\"24px\"viewBox=\"0 0 24 24\"\n",
              "       width=\"24px\">\n",
              "    <path d=\"M7,19H8.4L18.45,9,17,7.55,7,17.6ZM5,21V16.75L18.45,3.32a2,2,0,0,1,2.83,0l1.4,1.43a1.91,1.91,0,0,1,.58,1.4,1.91,1.91,0,0,1-.58,1.4L9.25,21ZM18.45,9,17,7.55Zm-12,3A5.31,5.31,0,0,0,4.9,8.1,5.31,5.31,0,0,0,1,6.5,5.31,5.31,0,0,0,4.9,4.9,5.31,5.31,0,0,0,6.5,1,5.31,5.31,0,0,0,8.1,4.9,5.31,5.31,0,0,0,12,6.5,5.46,5.46,0,0,0,6.5,12Z\"/>\n",
              "  </svg>\n",
              "    </button>\n",
              "    <script>\n",
              "      (() => {\n",
              "      const buttonEl =\n",
              "        document.querySelector('#id_53d54167-2e9d-45c6-98b7-b74d3fade915 button.colab-df-generate');\n",
              "      buttonEl.style.display =\n",
              "        google.colab.kernel.accessAllowed ? 'block' : 'none';\n",
              "\n",
              "      buttonEl.onclick = () => {\n",
              "        google.colab.notebook.generateWithVariable('XGBR_score');\n",
              "      }\n",
              "      })();\n",
              "    </script>\n",
              "  </div>\n",
              "\n",
              "    </div>\n",
              "  </div>\n"
            ],
            "application/vnd.google.colaboratory.intrinsic+json": {
              "type": "dataframe",
              "variable_name": "XGBR_score",
              "summary": "{\n  \"name\": \"XGBR_score\",\n  \"rows\": 1,\n  \"fields\": [\n    {\n      \"column\": \"Model\",\n      \"properties\": {\n        \"dtype\": \"string\",\n        \"num_unique_values\": 1,\n        \"samples\": [\n          \"XGBoost\"\n        ],\n        \"semantic_type\": \"\",\n        \"description\": \"\"\n      }\n    },\n    {\n      \"column\": \"R2 Score\",\n      \"properties\": {\n        \"dtype\": \"number\",\n        \"std\": null,\n        \"min\": 0.7863011713143921,\n        \"max\": 0.7863011713143921,\n        \"num_unique_values\": 1,\n        \"samples\": [\n          0.7863011713143921\n        ],\n        \"semantic_type\": \"\",\n        \"description\": \"\"\n      }\n    },\n    {\n      \"column\": \"Adjusted R2 Score\",\n      \"properties\": {\n        \"dtype\": \"number\",\n        \"std\": null,\n        \"min\": 0.7835339767908943,\n        \"max\": 0.7835339767908943,\n        \"num_unique_values\": 1,\n        \"samples\": [\n          0.7835339767908943\n        ],\n        \"semantic_type\": \"\",\n        \"description\": \"\"\n      }\n    },\n    {\n      \"column\": \"Cross Validated R2 Score\",\n      \"properties\": {\n        \"dtype\": \"number\",\n        \"std\": null,\n        \"min\": 0.9144720688641226,\n        \"max\": 0.9144720688641226,\n        \"num_unique_values\": 1,\n        \"samples\": [\n          0.9144720688641226\n        ],\n        \"semantic_type\": \"\",\n        \"description\": \"\"\n      }\n    },\n    {\n      \"column\": \"RMSE\",\n      \"properties\": {\n        \"dtype\": \"number\",\n        \"std\": null,\n        \"min\": 0.18678392892198512,\n        \"max\": 0.18678392892198512,\n        \"num_unique_values\": 1,\n        \"samples\": [\n          0.18678392892198512\n        ],\n        \"semantic_type\": \"\",\n        \"description\": \"\"\n      }\n    }\n  ]\n}"
            }
          },
          "metadata": {},
          "execution_count": 29
        }
      ],
      "source": [
        "ndf = [Reg_Models_Evaluation_Metrics(XGBR,X_train,y_train,X_test,y_test,y_pred)]\n",
        "\n",
        "XGBR_score = pd.DataFrame(data = ndf, columns=['R2 Score','Adjusted R2 Score','Cross Validated R2 Score','RMSE'])\n",
        "XGBR_score.insert(0, 'Model', 'XGBoost')\n",
        "XGBR_score"
      ]
    },
    {
      "cell_type": "markdown",
      "id": "b6f4b032",
      "metadata": {
        "id": "b6f4b032"
      },
      "source": [
        "## 6.5 Recursive Feature Elimination (RFE)"
      ]
    },
    {
      "cell_type": "markdown",
      "id": "db427bc5",
      "metadata": {
        "id": "db427bc5"
      },
      "source": [
        "RFE is a wrapper-type feature selection algorithm. This means that a different machine learning algorithm is given and used in the core of the method, is wrapped by RFE, and used to help select features.\n",
        "\n",
        "Random Forest has usually good performance combining with RFE"
      ]
    },
    {
      "cell_type": "code",
      "execution_count": 30,
      "id": "ecdd59b8",
      "metadata": {
        "id": "ecdd59b8"
      },
      "outputs": [],
      "source": [
        "from sklearn.feature_selection import RFE\n",
        "from sklearn.pipeline import Pipeline\n",
        "\n",
        "# create pipeline\n",
        "rfe = RFE(estimator=RandomForestRegressor(), n_features_to_select=60)\n",
        "model = RandomForestRegressor()\n",
        "rf_pipeline = Pipeline(steps=[('s',rfe),('m',model)])"
      ]
    },
    {
      "cell_type": "markdown",
      "id": "f299e732",
      "metadata": {
        "id": "f299e732"
      },
      "source": [
        "### Random Forest RFE performance for Avocado dataset"
      ]
    },
    {
      "cell_type": "code",
      "execution_count": 31,
      "id": "d7c454b9",
      "metadata": {
        "id": "d7c454b9"
      },
      "outputs": [],
      "source": [
        "rf_pipeline.fit(X_train, y_train)\n",
        "# Model making a prediction on test data\n",
        "y_pred = rf_pipeline.predict(X_test)"
      ]
    },
    {
      "cell_type": "code",
      "execution_count": 32,
      "id": "68e46d01",
      "metadata": {
        "colab": {
          "base_uri": "https://localhost:8080/",
          "height": 89
        },
        "id": "68e46d01",
        "outputId": "b266cdd0-939a-49d8-a22a-963e616f37fc"
      },
      "outputs": [
        {
          "output_type": "execute_result",
          "data": {
            "text/plain": [
              "                    Model  R2 Score  Adjusted R2 Score  \\\n",
              "0  Random Forest with RFE  0.800071           0.797482   \n",
              "\n",
              "   Cross Validated R2 Score      RMSE  \n",
              "0                  0.888114  0.180666  "
            ],
            "text/html": [
              "\n",
              "  <div id=\"df-9ea79e1f-7876-4ccc-b1b5-61a955450de4\" class=\"colab-df-container\">\n",
              "    <div>\n",
              "<style scoped>\n",
              "    .dataframe tbody tr th:only-of-type {\n",
              "        vertical-align: middle;\n",
              "    }\n",
              "\n",
              "    .dataframe tbody tr th {\n",
              "        vertical-align: top;\n",
              "    }\n",
              "\n",
              "    .dataframe thead th {\n",
              "        text-align: right;\n",
              "    }\n",
              "</style>\n",
              "<table border=\"1\" class=\"dataframe\">\n",
              "  <thead>\n",
              "    <tr style=\"text-align: right;\">\n",
              "      <th></th>\n",
              "      <th>Model</th>\n",
              "      <th>R2 Score</th>\n",
              "      <th>Adjusted R2 Score</th>\n",
              "      <th>Cross Validated R2 Score</th>\n",
              "      <th>RMSE</th>\n",
              "    </tr>\n",
              "  </thead>\n",
              "  <tbody>\n",
              "    <tr>\n",
              "      <th>0</th>\n",
              "      <td>Random Forest with RFE</td>\n",
              "      <td>0.800071</td>\n",
              "      <td>0.797482</td>\n",
              "      <td>0.888114</td>\n",
              "      <td>0.180666</td>\n",
              "    </tr>\n",
              "  </tbody>\n",
              "</table>\n",
              "</div>\n",
              "    <div class=\"colab-df-buttons\">\n",
              "\n",
              "  <div class=\"colab-df-container\">\n",
              "    <button class=\"colab-df-convert\" onclick=\"convertToInteractive('df-9ea79e1f-7876-4ccc-b1b5-61a955450de4')\"\n",
              "            title=\"Convert this dataframe to an interactive table.\"\n",
              "            style=\"display:none;\">\n",
              "\n",
              "  <svg xmlns=\"http://www.w3.org/2000/svg\" height=\"24px\" viewBox=\"0 -960 960 960\">\n",
              "    <path d=\"M120-120v-720h720v720H120Zm60-500h600v-160H180v160Zm220 220h160v-160H400v160Zm0 220h160v-160H400v160ZM180-400h160v-160H180v160Zm440 0h160v-160H620v160ZM180-180h160v-160H180v160Zm440 0h160v-160H620v160Z\"/>\n",
              "  </svg>\n",
              "    </button>\n",
              "\n",
              "  <style>\n",
              "    .colab-df-container {\n",
              "      display:flex;\n",
              "      gap: 12px;\n",
              "    }\n",
              "\n",
              "    .colab-df-convert {\n",
              "      background-color: #E8F0FE;\n",
              "      border: none;\n",
              "      border-radius: 50%;\n",
              "      cursor: pointer;\n",
              "      display: none;\n",
              "      fill: #1967D2;\n",
              "      height: 32px;\n",
              "      padding: 0 0 0 0;\n",
              "      width: 32px;\n",
              "    }\n",
              "\n",
              "    .colab-df-convert:hover {\n",
              "      background-color: #E2EBFA;\n",
              "      box-shadow: 0px 1px 2px rgba(60, 64, 67, 0.3), 0px 1px 3px 1px rgba(60, 64, 67, 0.15);\n",
              "      fill: #174EA6;\n",
              "    }\n",
              "\n",
              "    .colab-df-buttons div {\n",
              "      margin-bottom: 4px;\n",
              "    }\n",
              "\n",
              "    [theme=dark] .colab-df-convert {\n",
              "      background-color: #3B4455;\n",
              "      fill: #D2E3FC;\n",
              "    }\n",
              "\n",
              "    [theme=dark] .colab-df-convert:hover {\n",
              "      background-color: #434B5C;\n",
              "      box-shadow: 0px 1px 3px 1px rgba(0, 0, 0, 0.15);\n",
              "      filter: drop-shadow(0px 1px 2px rgba(0, 0, 0, 0.3));\n",
              "      fill: #FFFFFF;\n",
              "    }\n",
              "  </style>\n",
              "\n",
              "    <script>\n",
              "      const buttonEl =\n",
              "        document.querySelector('#df-9ea79e1f-7876-4ccc-b1b5-61a955450de4 button.colab-df-convert');\n",
              "      buttonEl.style.display =\n",
              "        google.colab.kernel.accessAllowed ? 'block' : 'none';\n",
              "\n",
              "      async function convertToInteractive(key) {\n",
              "        const element = document.querySelector('#df-9ea79e1f-7876-4ccc-b1b5-61a955450de4');\n",
              "        const dataTable =\n",
              "          await google.colab.kernel.invokeFunction('convertToInteractive',\n",
              "                                                    [key], {});\n",
              "        if (!dataTable) return;\n",
              "\n",
              "        const docLinkHtml = 'Like what you see? Visit the ' +\n",
              "          '<a target=\"_blank\" href=https://colab.research.google.com/notebooks/data_table.ipynb>data table notebook</a>'\n",
              "          + ' to learn more about interactive tables.';\n",
              "        element.innerHTML = '';\n",
              "        dataTable['output_type'] = 'display_data';\n",
              "        await google.colab.output.renderOutput(dataTable, element);\n",
              "        const docLink = document.createElement('div');\n",
              "        docLink.innerHTML = docLinkHtml;\n",
              "        element.appendChild(docLink);\n",
              "      }\n",
              "    </script>\n",
              "  </div>\n",
              "\n",
              "\n",
              "  <div id=\"id_e3b75f83-5999-452d-9259-a276e64384b3\">\n",
              "    <style>\n",
              "      .colab-df-generate {\n",
              "        background-color: #E8F0FE;\n",
              "        border: none;\n",
              "        border-radius: 50%;\n",
              "        cursor: pointer;\n",
              "        display: none;\n",
              "        fill: #1967D2;\n",
              "        height: 32px;\n",
              "        padding: 0 0 0 0;\n",
              "        width: 32px;\n",
              "      }\n",
              "\n",
              "      .colab-df-generate:hover {\n",
              "        background-color: #E2EBFA;\n",
              "        box-shadow: 0px 1px 2px rgba(60, 64, 67, 0.3), 0px 1px 3px 1px rgba(60, 64, 67, 0.15);\n",
              "        fill: #174EA6;\n",
              "      }\n",
              "\n",
              "      [theme=dark] .colab-df-generate {\n",
              "        background-color: #3B4455;\n",
              "        fill: #D2E3FC;\n",
              "      }\n",
              "\n",
              "      [theme=dark] .colab-df-generate:hover {\n",
              "        background-color: #434B5C;\n",
              "        box-shadow: 0px 1px 3px 1px rgba(0, 0, 0, 0.15);\n",
              "        filter: drop-shadow(0px 1px 2px rgba(0, 0, 0, 0.3));\n",
              "        fill: #FFFFFF;\n",
              "      }\n",
              "    </style>\n",
              "    <button class=\"colab-df-generate\" onclick=\"generateWithVariable('rfe_score')\"\n",
              "            title=\"Generate code using this dataframe.\"\n",
              "            style=\"display:none;\">\n",
              "\n",
              "  <svg xmlns=\"http://www.w3.org/2000/svg\" height=\"24px\"viewBox=\"0 0 24 24\"\n",
              "       width=\"24px\">\n",
              "    <path d=\"M7,19H8.4L18.45,9,17,7.55,7,17.6ZM5,21V16.75L18.45,3.32a2,2,0,0,1,2.83,0l1.4,1.43a1.91,1.91,0,0,1,.58,1.4,1.91,1.91,0,0,1-.58,1.4L9.25,21ZM18.45,9,17,7.55Zm-12,3A5.31,5.31,0,0,0,4.9,8.1,5.31,5.31,0,0,0,1,6.5,5.31,5.31,0,0,0,4.9,4.9,5.31,5.31,0,0,0,6.5,1,5.31,5.31,0,0,0,8.1,4.9,5.31,5.31,0,0,0,12,6.5,5.46,5.46,0,0,0,6.5,12Z\"/>\n",
              "  </svg>\n",
              "    </button>\n",
              "    <script>\n",
              "      (() => {\n",
              "      const buttonEl =\n",
              "        document.querySelector('#id_e3b75f83-5999-452d-9259-a276e64384b3 button.colab-df-generate');\n",
              "      buttonEl.style.display =\n",
              "        google.colab.kernel.accessAllowed ? 'block' : 'none';\n",
              "\n",
              "      buttonEl.onclick = () => {\n",
              "        google.colab.notebook.generateWithVariable('rfe_score');\n",
              "      }\n",
              "      })();\n",
              "    </script>\n",
              "  </div>\n",
              "\n",
              "    </div>\n",
              "  </div>\n"
            ],
            "application/vnd.google.colaboratory.intrinsic+json": {
              "type": "dataframe",
              "variable_name": "rfe_score",
              "summary": "{\n  \"name\": \"rfe_score\",\n  \"rows\": 1,\n  \"fields\": [\n    {\n      \"column\": \"Model\",\n      \"properties\": {\n        \"dtype\": \"string\",\n        \"num_unique_values\": 1,\n        \"samples\": [\n          \"Random Forest with RFE\"\n        ],\n        \"semantic_type\": \"\",\n        \"description\": \"\"\n      }\n    },\n    {\n      \"column\": \"R2 Score\",\n      \"properties\": {\n        \"dtype\": \"number\",\n        \"std\": null,\n        \"min\": 0.8000712125164897,\n        \"max\": 0.8000712125164897,\n        \"num_unique_values\": 1,\n        \"samples\": [\n          0.8000712125164897\n        ],\n        \"semantic_type\": \"\",\n        \"description\": \"\"\n      }\n    },\n    {\n      \"column\": \"Adjusted R2 Score\",\n      \"properties\": {\n        \"dtype\": \"number\",\n        \"std\": null,\n        \"min\": 0.7974823267971961,\n        \"max\": 0.7974823267971961,\n        \"num_unique_values\": 1,\n        \"samples\": [\n          0.7974823267971961\n        ],\n        \"semantic_type\": \"\",\n        \"description\": \"\"\n      }\n    },\n    {\n      \"column\": \"Cross Validated R2 Score\",\n      \"properties\": {\n        \"dtype\": \"number\",\n        \"std\": null,\n        \"min\": 0.8881143099599941,\n        \"max\": 0.8881143099599941,\n        \"num_unique_values\": 1,\n        \"samples\": [\n          0.8881143099599941\n        ],\n        \"semantic_type\": \"\",\n        \"description\": \"\"\n      }\n    },\n    {\n      \"column\": \"RMSE\",\n      \"properties\": {\n        \"dtype\": \"number\",\n        \"std\": null,\n        \"min\": 0.18066586367679666,\n        \"max\": 0.18066586367679666,\n        \"num_unique_values\": 1,\n        \"samples\": [\n          0.18066586367679666\n        ],\n        \"semantic_type\": \"\",\n        \"description\": \"\"\n      }\n    }\n  ]\n}"
            }
          },
          "metadata": {},
          "execution_count": 32
        }
      ],
      "source": [
        "ndf = [Reg_Models_Evaluation_Metrics(rf_pipeline,X_train,y_train,X_test,y_test,y_pred)]\n",
        "\n",
        "rfe_score = pd.DataFrame(data = ndf, columns=['R2 Score','Adjusted R2 Score','Cross Validated R2 Score','RMSE'])\n",
        "rfe_score.insert(0, 'Model', 'Random Forest with RFE')\n",
        "rfe_score"
      ]
    },
    {
      "cell_type": "markdown",
      "id": "55e6ed13",
      "metadata": {
        "id": "55e6ed13"
      },
      "source": [
        "# 7. Final Model Evaluation"
      ]
    },
    {
      "cell_type": "markdown",
      "id": "def1e60c",
      "metadata": {
        "id": "def1e60c"
      },
      "source": [
        "## 7.1 Avocado dataset"
      ]
    },
    {
      "cell_type": "code",
      "execution_count": 33,
      "id": "6b92120e",
      "metadata": {
        "colab": {
          "base_uri": "https://localhost:8080/",
          "height": 206
        },
        "id": "6b92120e",
        "outputId": "67470d3b-afdb-42a9-a477-cbaf31a4de7d"
      },
      "outputs": [
        {
          "output_type": "execute_result",
          "data": {
            "text/plain": [
              "                    Model  R2 Score  Adjusted R2 Score  \\\n",
              "0  Random Forest with RFE  0.800071           0.797482   \n",
              "1                 XGBoost  0.786301           0.783534   \n",
              "2        Ridge Regression  0.598733           0.593537   \n",
              "3           Random Forest  0.787120           0.784363   \n",
              "4       Linear Regression  0.598793           0.593598   \n",
              "\n",
              "   Cross Validated R2 Score      RMSE  \n",
              "0                  0.888114  0.180666  \n",
              "1                  0.914472  0.186784  \n",
              "2                  0.604317  0.255950  \n",
              "3                  0.876525  0.186426  \n",
              "4                  0.604281  0.255931  "
            ],
            "text/html": [
              "\n",
              "  <div id=\"df-73604690-389e-4fd4-a9eb-022f38c9d728\" class=\"colab-df-container\">\n",
              "    <div>\n",
              "<style scoped>\n",
              "    .dataframe tbody tr th:only-of-type {\n",
              "        vertical-align: middle;\n",
              "    }\n",
              "\n",
              "    .dataframe tbody tr th {\n",
              "        vertical-align: top;\n",
              "    }\n",
              "\n",
              "    .dataframe thead th {\n",
              "        text-align: right;\n",
              "    }\n",
              "</style>\n",
              "<table border=\"1\" class=\"dataframe\">\n",
              "  <thead>\n",
              "    <tr style=\"text-align: right;\">\n",
              "      <th></th>\n",
              "      <th>Model</th>\n",
              "      <th>R2 Score</th>\n",
              "      <th>Adjusted R2 Score</th>\n",
              "      <th>Cross Validated R2 Score</th>\n",
              "      <th>RMSE</th>\n",
              "    </tr>\n",
              "  </thead>\n",
              "  <tbody>\n",
              "    <tr>\n",
              "      <th>0</th>\n",
              "      <td>Random Forest with RFE</td>\n",
              "      <td>0.800071</td>\n",
              "      <td>0.797482</td>\n",
              "      <td>0.888114</td>\n",
              "      <td>0.180666</td>\n",
              "    </tr>\n",
              "    <tr>\n",
              "      <th>1</th>\n",
              "      <td>XGBoost</td>\n",
              "      <td>0.786301</td>\n",
              "      <td>0.783534</td>\n",
              "      <td>0.914472</td>\n",
              "      <td>0.186784</td>\n",
              "    </tr>\n",
              "    <tr>\n",
              "      <th>2</th>\n",
              "      <td>Ridge Regression</td>\n",
              "      <td>0.598733</td>\n",
              "      <td>0.593537</td>\n",
              "      <td>0.604317</td>\n",
              "      <td>0.255950</td>\n",
              "    </tr>\n",
              "    <tr>\n",
              "      <th>3</th>\n",
              "      <td>Random Forest</td>\n",
              "      <td>0.787120</td>\n",
              "      <td>0.784363</td>\n",
              "      <td>0.876525</td>\n",
              "      <td>0.186426</td>\n",
              "    </tr>\n",
              "    <tr>\n",
              "      <th>4</th>\n",
              "      <td>Linear Regression</td>\n",
              "      <td>0.598793</td>\n",
              "      <td>0.593598</td>\n",
              "      <td>0.604281</td>\n",
              "      <td>0.255931</td>\n",
              "    </tr>\n",
              "  </tbody>\n",
              "</table>\n",
              "</div>\n",
              "    <div class=\"colab-df-buttons\">\n",
              "\n",
              "  <div class=\"colab-df-container\">\n",
              "    <button class=\"colab-df-convert\" onclick=\"convertToInteractive('df-73604690-389e-4fd4-a9eb-022f38c9d728')\"\n",
              "            title=\"Convert this dataframe to an interactive table.\"\n",
              "            style=\"display:none;\">\n",
              "\n",
              "  <svg xmlns=\"http://www.w3.org/2000/svg\" height=\"24px\" viewBox=\"0 -960 960 960\">\n",
              "    <path d=\"M120-120v-720h720v720H120Zm60-500h600v-160H180v160Zm220 220h160v-160H400v160Zm0 220h160v-160H400v160ZM180-400h160v-160H180v160Zm440 0h160v-160H620v160ZM180-180h160v-160H180v160Zm440 0h160v-160H620v160Z\"/>\n",
              "  </svg>\n",
              "    </button>\n",
              "\n",
              "  <style>\n",
              "    .colab-df-container {\n",
              "      display:flex;\n",
              "      gap: 12px;\n",
              "    }\n",
              "\n",
              "    .colab-df-convert {\n",
              "      background-color: #E8F0FE;\n",
              "      border: none;\n",
              "      border-radius: 50%;\n",
              "      cursor: pointer;\n",
              "      display: none;\n",
              "      fill: #1967D2;\n",
              "      height: 32px;\n",
              "      padding: 0 0 0 0;\n",
              "      width: 32px;\n",
              "    }\n",
              "\n",
              "    .colab-df-convert:hover {\n",
              "      background-color: #E2EBFA;\n",
              "      box-shadow: 0px 1px 2px rgba(60, 64, 67, 0.3), 0px 1px 3px 1px rgba(60, 64, 67, 0.15);\n",
              "      fill: #174EA6;\n",
              "    }\n",
              "\n",
              "    .colab-df-buttons div {\n",
              "      margin-bottom: 4px;\n",
              "    }\n",
              "\n",
              "    [theme=dark] .colab-df-convert {\n",
              "      background-color: #3B4455;\n",
              "      fill: #D2E3FC;\n",
              "    }\n",
              "\n",
              "    [theme=dark] .colab-df-convert:hover {\n",
              "      background-color: #434B5C;\n",
              "      box-shadow: 0px 1px 3px 1px rgba(0, 0, 0, 0.15);\n",
              "      filter: drop-shadow(0px 1px 2px rgba(0, 0, 0, 0.3));\n",
              "      fill: #FFFFFF;\n",
              "    }\n",
              "  </style>\n",
              "\n",
              "    <script>\n",
              "      const buttonEl =\n",
              "        document.querySelector('#df-73604690-389e-4fd4-a9eb-022f38c9d728 button.colab-df-convert');\n",
              "      buttonEl.style.display =\n",
              "        google.colab.kernel.accessAllowed ? 'block' : 'none';\n",
              "\n",
              "      async function convertToInteractive(key) {\n",
              "        const element = document.querySelector('#df-73604690-389e-4fd4-a9eb-022f38c9d728');\n",
              "        const dataTable =\n",
              "          await google.colab.kernel.invokeFunction('convertToInteractive',\n",
              "                                                    [key], {});\n",
              "        if (!dataTable) return;\n",
              "\n",
              "        const docLinkHtml = 'Like what you see? Visit the ' +\n",
              "          '<a target=\"_blank\" href=https://colab.research.google.com/notebooks/data_table.ipynb>data table notebook</a>'\n",
              "          + ' to learn more about interactive tables.';\n",
              "        element.innerHTML = '';\n",
              "        dataTable['output_type'] = 'display_data';\n",
              "        await google.colab.output.renderOutput(dataTable, element);\n",
              "        const docLink = document.createElement('div');\n",
              "        docLink.innerHTML = docLinkHtml;\n",
              "        element.appendChild(docLink);\n",
              "      }\n",
              "    </script>\n",
              "  </div>\n",
              "\n",
              "\n",
              "<div id=\"df-665c64e4-12bd-408d-9804-faf54b97c4c1\">\n",
              "  <button class=\"colab-df-quickchart\" onclick=\"quickchart('df-665c64e4-12bd-408d-9804-faf54b97c4c1')\"\n",
              "            title=\"Suggest charts\"\n",
              "            style=\"display:none;\">\n",
              "\n",
              "<svg xmlns=\"http://www.w3.org/2000/svg\" height=\"24px\"viewBox=\"0 0 24 24\"\n",
              "     width=\"24px\">\n",
              "    <g>\n",
              "        <path d=\"M19 3H5c-1.1 0-2 .9-2 2v14c0 1.1.9 2 2 2h14c1.1 0 2-.9 2-2V5c0-1.1-.9-2-2-2zM9 17H7v-7h2v7zm4 0h-2V7h2v10zm4 0h-2v-4h2v4z\"/>\n",
              "    </g>\n",
              "</svg>\n",
              "  </button>\n",
              "\n",
              "<style>\n",
              "  .colab-df-quickchart {\n",
              "      --bg-color: #E8F0FE;\n",
              "      --fill-color: #1967D2;\n",
              "      --hover-bg-color: #E2EBFA;\n",
              "      --hover-fill-color: #174EA6;\n",
              "      --disabled-fill-color: #AAA;\n",
              "      --disabled-bg-color: #DDD;\n",
              "  }\n",
              "\n",
              "  [theme=dark] .colab-df-quickchart {\n",
              "      --bg-color: #3B4455;\n",
              "      --fill-color: #D2E3FC;\n",
              "      --hover-bg-color: #434B5C;\n",
              "      --hover-fill-color: #FFFFFF;\n",
              "      --disabled-bg-color: #3B4455;\n",
              "      --disabled-fill-color: #666;\n",
              "  }\n",
              "\n",
              "  .colab-df-quickchart {\n",
              "    background-color: var(--bg-color);\n",
              "    border: none;\n",
              "    border-radius: 50%;\n",
              "    cursor: pointer;\n",
              "    display: none;\n",
              "    fill: var(--fill-color);\n",
              "    height: 32px;\n",
              "    padding: 0;\n",
              "    width: 32px;\n",
              "  }\n",
              "\n",
              "  .colab-df-quickchart:hover {\n",
              "    background-color: var(--hover-bg-color);\n",
              "    box-shadow: 0 1px 2px rgba(60, 64, 67, 0.3), 0 1px 3px 1px rgba(60, 64, 67, 0.15);\n",
              "    fill: var(--button-hover-fill-color);\n",
              "  }\n",
              "\n",
              "  .colab-df-quickchart-complete:disabled,\n",
              "  .colab-df-quickchart-complete:disabled:hover {\n",
              "    background-color: var(--disabled-bg-color);\n",
              "    fill: var(--disabled-fill-color);\n",
              "    box-shadow: none;\n",
              "  }\n",
              "\n",
              "  .colab-df-spinner {\n",
              "    border: 2px solid var(--fill-color);\n",
              "    border-color: transparent;\n",
              "    border-bottom-color: var(--fill-color);\n",
              "    animation:\n",
              "      spin 1s steps(1) infinite;\n",
              "  }\n",
              "\n",
              "  @keyframes spin {\n",
              "    0% {\n",
              "      border-color: transparent;\n",
              "      border-bottom-color: var(--fill-color);\n",
              "      border-left-color: var(--fill-color);\n",
              "    }\n",
              "    20% {\n",
              "      border-color: transparent;\n",
              "      border-left-color: var(--fill-color);\n",
              "      border-top-color: var(--fill-color);\n",
              "    }\n",
              "    30% {\n",
              "      border-color: transparent;\n",
              "      border-left-color: var(--fill-color);\n",
              "      border-top-color: var(--fill-color);\n",
              "      border-right-color: var(--fill-color);\n",
              "    }\n",
              "    40% {\n",
              "      border-color: transparent;\n",
              "      border-right-color: var(--fill-color);\n",
              "      border-top-color: var(--fill-color);\n",
              "    }\n",
              "    60% {\n",
              "      border-color: transparent;\n",
              "      border-right-color: var(--fill-color);\n",
              "    }\n",
              "    80% {\n",
              "      border-color: transparent;\n",
              "      border-right-color: var(--fill-color);\n",
              "      border-bottom-color: var(--fill-color);\n",
              "    }\n",
              "    90% {\n",
              "      border-color: transparent;\n",
              "      border-bottom-color: var(--fill-color);\n",
              "    }\n",
              "  }\n",
              "</style>\n",
              "\n",
              "  <script>\n",
              "    async function quickchart(key) {\n",
              "      const quickchartButtonEl =\n",
              "        document.querySelector('#' + key + ' button');\n",
              "      quickchartButtonEl.disabled = true;  // To prevent multiple clicks.\n",
              "      quickchartButtonEl.classList.add('colab-df-spinner');\n",
              "      try {\n",
              "        const charts = await google.colab.kernel.invokeFunction(\n",
              "            'suggestCharts', [key], {});\n",
              "      } catch (error) {\n",
              "        console.error('Error during call to suggestCharts:', error);\n",
              "      }\n",
              "      quickchartButtonEl.classList.remove('colab-df-spinner');\n",
              "      quickchartButtonEl.classList.add('colab-df-quickchart-complete');\n",
              "    }\n",
              "    (() => {\n",
              "      let quickchartButtonEl =\n",
              "        document.querySelector('#df-665c64e4-12bd-408d-9804-faf54b97c4c1 button');\n",
              "      quickchartButtonEl.style.display =\n",
              "        google.colab.kernel.accessAllowed ? 'block' : 'none';\n",
              "    })();\n",
              "  </script>\n",
              "</div>\n",
              "\n",
              "  <div id=\"id_ca41dc78-1c8a-487f-8b17-b440c5834c69\">\n",
              "    <style>\n",
              "      .colab-df-generate {\n",
              "        background-color: #E8F0FE;\n",
              "        border: none;\n",
              "        border-radius: 50%;\n",
              "        cursor: pointer;\n",
              "        display: none;\n",
              "        fill: #1967D2;\n",
              "        height: 32px;\n",
              "        padding: 0 0 0 0;\n",
              "        width: 32px;\n",
              "      }\n",
              "\n",
              "      .colab-df-generate:hover {\n",
              "        background-color: #E2EBFA;\n",
              "        box-shadow: 0px 1px 2px rgba(60, 64, 67, 0.3), 0px 1px 3px 1px rgba(60, 64, 67, 0.15);\n",
              "        fill: #174EA6;\n",
              "      }\n",
              "\n",
              "      [theme=dark] .colab-df-generate {\n",
              "        background-color: #3B4455;\n",
              "        fill: #D2E3FC;\n",
              "      }\n",
              "\n",
              "      [theme=dark] .colab-df-generate:hover {\n",
              "        background-color: #434B5C;\n",
              "        box-shadow: 0px 1px 3px 1px rgba(0, 0, 0, 0.15);\n",
              "        filter: drop-shadow(0px 1px 2px rgba(0, 0, 0, 0.3));\n",
              "        fill: #FFFFFF;\n",
              "      }\n",
              "    </style>\n",
              "    <button class=\"colab-df-generate\" onclick=\"generateWithVariable('predictions')\"\n",
              "            title=\"Generate code using this dataframe.\"\n",
              "            style=\"display:none;\">\n",
              "\n",
              "  <svg xmlns=\"http://www.w3.org/2000/svg\" height=\"24px\"viewBox=\"0 0 24 24\"\n",
              "       width=\"24px\">\n",
              "    <path d=\"M7,19H8.4L18.45,9,17,7.55,7,17.6ZM5,21V16.75L18.45,3.32a2,2,0,0,1,2.83,0l1.4,1.43a1.91,1.91,0,0,1,.58,1.4,1.91,1.91,0,0,1-.58,1.4L9.25,21ZM18.45,9,17,7.55Zm-12,3A5.31,5.31,0,0,0,4.9,8.1,5.31,5.31,0,0,0,1,6.5,5.31,5.31,0,0,0,4.9,4.9,5.31,5.31,0,0,0,6.5,1,5.31,5.31,0,0,0,8.1,4.9,5.31,5.31,0,0,0,12,6.5,5.46,5.46,0,0,0,6.5,12Z\"/>\n",
              "  </svg>\n",
              "    </button>\n",
              "    <script>\n",
              "      (() => {\n",
              "      const buttonEl =\n",
              "        document.querySelector('#id_ca41dc78-1c8a-487f-8b17-b440c5834c69 button.colab-df-generate');\n",
              "      buttonEl.style.display =\n",
              "        google.colab.kernel.accessAllowed ? 'block' : 'none';\n",
              "\n",
              "      buttonEl.onclick = () => {\n",
              "        google.colab.notebook.generateWithVariable('predictions');\n",
              "      }\n",
              "      })();\n",
              "    </script>\n",
              "  </div>\n",
              "\n",
              "    </div>\n",
              "  </div>\n"
            ],
            "application/vnd.google.colaboratory.intrinsic+json": {
              "type": "dataframe",
              "variable_name": "predictions",
              "summary": "{\n  \"name\": \"predictions\",\n  \"rows\": 5,\n  \"fields\": [\n    {\n      \"column\": \"Model\",\n      \"properties\": {\n        \"dtype\": \"string\",\n        \"num_unique_values\": 5,\n        \"samples\": [\n          \"XGBoost\",\n          \"Linear Regression\",\n          \"Ridge Regression\"\n        ],\n        \"semantic_type\": \"\",\n        \"description\": \"\"\n      }\n    },\n    {\n      \"column\": \"R2 Score\",\n      \"properties\": {\n        \"dtype\": \"number\",\n        \"std\": 0.10552372572531221,\n        \"min\": 0.5987330050937683,\n        \"max\": 0.8000712125164897,\n        \"num_unique_values\": 5,\n        \"samples\": [\n          0.7863011713143921,\n          0.5987934342056856,\n          0.5987330050937683\n        ],\n        \"semantic_type\": \"\",\n        \"description\": \"\"\n      }\n    },\n    {\n      \"column\": \"Adjusted R2 Score\",\n      \"properties\": {\n        \"dtype\": \"number\",\n        \"std\": 0.1068901565931003,\n        \"min\": 0.5935369830210476,\n        \"max\": 0.7974823267971961,\n        \"num_unique_values\": 5,\n        \"samples\": [\n          0.7835339767908943,\n          0.593598194631908,\n          0.5935369830210476\n        ],\n        \"semantic_type\": \"\",\n        \"description\": \"\"\n      }\n    },\n    {\n      \"column\": \"Cross Validated R2 Score\",\n      \"properties\": {\n        \"dtype\": \"number\",\n        \"std\": 0.15874491431203894,\n        \"min\": 0.6042812249582874,\n        \"max\": 0.9144720688641226,\n        \"num_unique_values\": 5,\n        \"samples\": [\n          0.9144720688641226,\n          0.6042812249582874,\n          0.6043172359723595\n        ],\n        \"semantic_type\": \"\",\n        \"description\": \"\"\n      }\n    },\n    {\n      \"column\": \"RMSE\",\n      \"properties\": {\n        \"dtype\": \"number\",\n        \"std\": 0.039136301760924135,\n        \"min\": 0.18066586367679666,\n        \"max\": 0.25595001259567146,\n        \"num_unique_values\": 5,\n        \"samples\": [\n          0.18678392892198512,\n          0.2559307393754634,\n          0.25595001259567146\n        ],\n        \"semantic_type\": \"\",\n        \"description\": \"\"\n      }\n    }\n  ]\n}"
            }
          },
          "metadata": {},
          "execution_count": 33
        }
      ],
      "source": [
        "predictions = pd.concat([rfe_score, XGBR_score, rr_score, rf_score, lm_score], ignore_index=True, sort=False)\n",
        "predictions"
      ]
    },
    {
      "cell_type": "markdown",
      "id": "6edcce59",
      "metadata": {
        "id": "6edcce59"
      },
      "source": [
        "## 7.3 Visualizing Model Performance"
      ]
    },
    {
      "cell_type": "code",
      "execution_count": 34,
      "id": "328329e0",
      "metadata": {
        "colab": {
          "base_uri": "https://localhost:8080/",
          "height": 416
        },
        "id": "328329e0",
        "outputId": "9e7a3159-0e20-406e-b36a-1db6c57dbc2a"
      },
      "outputs": [
        {
          "output_type": "display_data",
          "data": {
            "text/plain": [
              "<Figure size 1000x400 with 1 Axes>"
            ],
            "image/png": "[encoded data removed]"
          },
          "metadata": {}
        }
      ],
      "source": [
        "f, axe = plt.subplots(1,1, figsize=(10,4))\n",
        "\n",
        "predictions.sort_values(by=['Cross Validated R2 Score'], ascending=False, inplace=True)\n",
        "\n",
        "sns.barplot(x='Cross Validated R2 Score', y='Model', data = predictions, ax = axe)\n",
        "axe.set_xlabel('Cross Validated R2 Score', size=16)\n",
        "axe.set_ylabel('Modelo')\n",
        "axe.set_xlim(0,1.0)\n",
        "\n",
        "axe.set(title='Rendimiento del modelo para el conjunto de datos de Aguacates')\n",
        "\n",
        "plt.show()"
      ]
    },
    {
      "cell_type": "markdown",
      "id": "b27fe5bb",
      "metadata": {
        "id": "b27fe5bb"
      },
      "source": [
        "# 8. Bonus: hyperparameter Tuning Using GridSearchCV"
      ]
    },
    {
      "cell_type": "markdown",
      "id": "f8c574b9",
      "metadata": {
        "id": "f8c574b9"
      },
      "source": [
        "Hyperparameter tuning is the process of tuning the parameters present as the tuples while we build machine learning models. These parameters are defined by us. Machine learning algorithms never learn these parameters. These can be tuned in different step.\n",
        "\n",
        "GridSearchCV is a technique for finding the optimal hyperparameter values from a given set of parameters in a grid. It's essentially a cross-validation technique. The model as well as the parameters must be entered. After extracting the best parameter values, predictions are made.\n",
        "\n",
        "The “best” parameters that GridSearchCV identifies are technically the best that could be produced, but only by the parameters that you included in your parameter grid."
      ]
    },
    {
      "cell_type": "markdown",
      "id": "0bffb47a",
      "metadata": {
        "id": "0bffb47a"
      },
      "source": [
        "## 8.1 Tuned Ridge Regression"
      ]
    },
    {
      "cell_type": "code",
      "execution_count": 35,
      "id": "2f50acaf",
      "metadata": {
        "id": "2f50acaf"
      },
      "outputs": [],
      "source": [
        "from sklearn.preprocessing import PolynomialFeatures\n",
        "\n",
        "# Polynomial features are those features created by raising existing features to an exponent.\n",
        "# For example, if a dataset had one input feature X,\n",
        "# then a polynomial feature would be the addition of a new feature (column) where values were calculated by squaring the values in X, e.g. X^2.\n",
        "\n",
        "steps = [\n",
        "    ('poly', PolynomialFeatures(degree=2)),\n",
        "    ('model', Ridge(alpha=3.8, fit_intercept=True))\n",
        "]\n",
        "\n",
        "ridge_pipe = Pipeline(steps)\n",
        "ridge_pipe.fit(X_train, y_train)\n",
        "\n",
        "# Model making a prediction on test data\n",
        "y_pred = ridge_pipe.predict(X_test)"
      ]
    },
    {
      "cell_type": "code",
      "execution_count": 36,
      "id": "f4567704",
      "metadata": {
        "id": "f4567704"
      },
      "outputs": [],
      "source": [
        "from sklearn.model_selection import GridSearchCV\n",
        "\n",
        "alpha_params = [{'model__alpha': list(range(1, 15))}]\n",
        "\n",
        "clf = GridSearchCV(ridge_pipe, alpha_params, cv = 10)"
      ]
    },
    {
      "cell_type": "markdown",
      "id": "c436a709",
      "metadata": {
        "id": "c436a709"
      },
      "source": [
        "### Tuned Ridge Regression performance for Avocado dataset"
      ]
    },
    {
      "cell_type": "code",
      "execution_count": 37,
      "id": "965df967",
      "metadata": {
        "id": "965df967",
        "colab": {
          "base_uri": "https://localhost:8080/"
        },
        "outputId": "65da4a94-53a3-444f-ae30-78f7ffbb6066"
      },
      "outputs": [
        {
          "output_type": "stream",
          "name": "stdout",
          "text": [
            "{'model__alpha': 1}\n"
          ]
        }
      ],
      "source": [
        "# Fit and tune model\n",
        "clf.fit(X_train, y_train)\n",
        "# Model making a prediction on test data\n",
        "y_pred = ridge_pipe.predict(X_test)\n",
        "# The combination of hyperparameters along with values that give the best performance of our estimate specified\n",
        "print(clf.best_params_)"
      ]
    },
    {
      "cell_type": "code",
      "execution_count": 38,
      "id": "c9286faf",
      "metadata": {
        "id": "c9286faf",
        "colab": {
          "base_uri": "https://localhost:8080/",
          "height": 89
        },
        "outputId": "a5769f4c-a9ab-4e8e-c5fd-f7c13584d59c"
      },
      "outputs": [
        {
          "output_type": "execute_result",
          "data": {
            "text/plain": [
              "                    Model  R2 Score  Adjusted R2 Score  \\\n",
              "0  Tuned Ridge Regression  0.736622           0.733212   \n",
              "\n",
              "   Cross Validated R2 Score      RMSE  \n",
              "0                  0.739008  0.210438  "
            ],
            "text/html": [
              "\n",
              "  <div id=\"df-abcc7c28-e81a-4232-ad98-ba90329acc0b\" class=\"colab-df-container\">\n",
              "    <div>\n",
              "<style scoped>\n",
              "    .dataframe tbody tr th:only-of-type {\n",
              "        vertical-align: middle;\n",
              "    }\n",
              "\n",
              "    .dataframe tbody tr th {\n",
              "        vertical-align: top;\n",
              "    }\n",
              "\n",
              "    .dataframe thead th {\n",
              "        text-align: right;\n",
              "    }\n",
              "</style>\n",
              "<table border=\"1\" class=\"dataframe\">\n",
              "  <thead>\n",
              "    <tr style=\"text-align: right;\">\n",
              "      <th></th>\n",
              "      <th>Model</th>\n",
              "      <th>R2 Score</th>\n",
              "      <th>Adjusted R2 Score</th>\n",
              "      <th>Cross Validated R2 Score</th>\n",
              "      <th>RMSE</th>\n",
              "    </tr>\n",
              "  </thead>\n",
              "  <tbody>\n",
              "    <tr>\n",
              "      <th>0</th>\n",
              "      <td>Tuned Ridge Regression</td>\n",
              "      <td>0.736622</td>\n",
              "      <td>0.733212</td>\n",
              "      <td>0.739008</td>\n",
              "      <td>0.210438</td>\n",
              "    </tr>\n",
              "  </tbody>\n",
              "</table>\n",
              "</div>\n",
              "    <div class=\"colab-df-buttons\">\n",
              "\n",
              "  <div class=\"colab-df-container\">\n",
              "    <button class=\"colab-df-convert\" onclick=\"convertToInteractive('df-abcc7c28-e81a-4232-ad98-ba90329acc0b')\"\n",
              "            title=\"Convert this dataframe to an interactive table.\"\n",
              "            style=\"display:none;\">\n",
              "\n",
              "  <svg xmlns=\"http://www.w3.org/2000/svg\" height=\"24px\" viewBox=\"0 -960 960 960\">\n",
              "    <path d=\"M120-120v-720h720v720H120Zm60-500h600v-160H180v160Zm220 220h160v-160H400v160Zm0 220h160v-160H400v160ZM180-400h160v-160H180v160Zm440 0h160v-160H620v160ZM180-180h160v-160H180v160Zm440 0h160v-160H620v160Z\"/>\n",
              "  </svg>\n",
              "    </button>\n",
              "\n",
              "  <style>\n",
              "    .colab-df-container {\n",
              "      display:flex;\n",
              "      gap: 12px;\n",
              "    }\n",
              "\n",
              "    .colab-df-convert {\n",
              "      background-color: #E8F0FE;\n",
              "      border: none;\n",
              "      border-radius: 50%;\n",
              "      cursor: pointer;\n",
              "      display: none;\n",
              "      fill: #1967D2;\n",
              "      height: 32px;\n",
              "      padding: 0 0 0 0;\n",
              "      width: 32px;\n",
              "    }\n",
              "\n",
              "    .colab-df-convert:hover {\n",
              "      background-color: #E2EBFA;\n",
              "      box-shadow: 0px 1px 2px rgba(60, 64, 67, 0.3), 0px 1px 3px 1px rgba(60, 64, 67, 0.15);\n",
              "      fill: #174EA6;\n",
              "    }\n",
              "\n",
              "    .colab-df-buttons div {\n",
              "      margin-bottom: 4px;\n",
              "    }\n",
              "\n",
              "    [theme=dark] .colab-df-convert {\n",
              "      background-color: #3B4455;\n",
              "      fill: #D2E3FC;\n",
              "    }\n",
              "\n",
              "    [theme=dark] .colab-df-convert:hover {\n",
              "      background-color: #434B5C;\n",
              "      box-shadow: 0px 1px 3px 1px rgba(0, 0, 0, 0.15);\n",
              "      filter: drop-shadow(0px 1px 2px rgba(0, 0, 0, 0.3));\n",
              "      fill: #FFFFFF;\n",
              "    }\n",
              "  </style>\n",
              "\n",
              "    <script>\n",
              "      const buttonEl =\n",
              "        document.querySelector('#df-abcc7c28-e81a-4232-ad98-ba90329acc0b button.colab-df-convert');\n",
              "      buttonEl.style.display =\n",
              "        google.colab.kernel.accessAllowed ? 'block' : 'none';\n",
              "\n",
              "      async function convertToInteractive(key) {\n",
              "        const element = document.querySelector('#df-abcc7c28-e81a-4232-ad98-ba90329acc0b');\n",
              "        const dataTable =\n",
              "          await google.colab.kernel.invokeFunction('convertToInteractive',\n",
              "                                                    [key], {});\n",
              "        if (!dataTable) return;\n",
              "\n",
              "        const docLinkHtml = 'Like what you see? Visit the ' +\n",
              "          '<a target=\"_blank\" href=https://colab.research.google.com/notebooks/data_table.ipynb>data table notebook</a>'\n",
              "          + ' to learn more about interactive tables.';\n",
              "        element.innerHTML = '';\n",
              "        dataTable['output_type'] = 'display_data';\n",
              "        await google.colab.output.renderOutput(dataTable, element);\n",
              "        const docLink = document.createElement('div');\n",
              "        docLink.innerHTML = docLinkHtml;\n",
              "        element.appendChild(docLink);\n",
              "      }\n",
              "    </script>\n",
              "  </div>\n",
              "\n",
              "\n",
              "  <div id=\"id_ba33976f-e3fd-4ceb-b4c1-2cec606e88e6\">\n",
              "    <style>\n",
              "      .colab-df-generate {\n",
              "        background-color: #E8F0FE;\n",
              "        border: none;\n",
              "        border-radius: 50%;\n",
              "        cursor: pointer;\n",
              "        display: none;\n",
              "        fill: #1967D2;\n",
              "        height: 32px;\n",
              "        padding: 0 0 0 0;\n",
              "        width: 32px;\n",
              "      }\n",
              "\n",
              "      .colab-df-generate:hover {\n",
              "        background-color: #E2EBFA;\n",
              "        box-shadow: 0px 1px 2px rgba(60, 64, 67, 0.3), 0px 1px 3px 1px rgba(60, 64, 67, 0.15);\n",
              "        fill: #174EA6;\n",
              "      }\n",
              "\n",
              "      [theme=dark] .colab-df-generate {\n",
              "        background-color: #3B4455;\n",
              "        fill: #D2E3FC;\n",
              "      }\n",
              "\n",
              "      [theme=dark] .colab-df-generate:hover {\n",
              "        background-color: #434B5C;\n",
              "        box-shadow: 0px 1px 3px 1px rgba(0, 0, 0, 0.15);\n",
              "        filter: drop-shadow(0px 1px 2px rgba(0, 0, 0, 0.3));\n",
              "        fill: #FFFFFF;\n",
              "      }\n",
              "    </style>\n",
              "    <button class=\"colab-df-generate\" onclick=\"generateWithVariable('clf_score')\"\n",
              "            title=\"Generate code using this dataframe.\"\n",
              "            style=\"display:none;\">\n",
              "\n",
              "  <svg xmlns=\"http://www.w3.org/2000/svg\" height=\"24px\"viewBox=\"0 0 24 24\"\n",
              "       width=\"24px\">\n",
              "    <path d=\"M7,19H8.4L18.45,9,17,7.55,7,17.6ZM5,21V16.75L18.45,3.32a2,2,0,0,1,2.83,0l1.4,1.43a1.91,1.91,0,0,1,.58,1.4,1.91,1.91,0,0,1-.58,1.4L9.25,21ZM18.45,9,17,7.55Zm-12,3A5.31,5.31,0,0,0,4.9,8.1,5.31,5.31,0,0,0,1,6.5,5.31,5.31,0,0,0,4.9,4.9,5.31,5.31,0,0,0,6.5,1,5.31,5.31,0,0,0,8.1,4.9,5.31,5.31,0,0,0,12,6.5,5.46,5.46,0,0,0,6.5,12Z\"/>\n",
              "  </svg>\n",
              "    </button>\n",
              "    <script>\n",
              "      (() => {\n",
              "      const buttonEl =\n",
              "        document.querySelector('#id_ba33976f-e3fd-4ceb-b4c1-2cec606e88e6 button.colab-df-generate');\n",
              "      buttonEl.style.display =\n",
              "        google.colab.kernel.accessAllowed ? 'block' : 'none';\n",
              "\n",
              "      buttonEl.onclick = () => {\n",
              "        google.colab.notebook.generateWithVariable('clf_score');\n",
              "      }\n",
              "      })();\n",
              "    </script>\n",
              "  </div>\n",
              "\n",
              "    </div>\n",
              "  </div>\n"
            ],
            "application/vnd.google.colaboratory.intrinsic+json": {
              "type": "dataframe",
              "variable_name": "clf_score",
              "summary": "{\n  \"name\": \"clf_score\",\n  \"rows\": 1,\n  \"fields\": [\n    {\n      \"column\": \"Model\",\n      \"properties\": {\n        \"dtype\": \"string\",\n        \"num_unique_values\": 1,\n        \"samples\": [\n          \"Tuned Ridge Regression\"\n        ],\n        \"semantic_type\": \"\",\n        \"description\": \"\"\n      }\n    },\n    {\n      \"column\": \"R2 Score\",\n      \"properties\": {\n        \"dtype\": \"number\",\n        \"std\": null,\n        \"min\": 0.736622376645533,\n        \"max\": 0.736622376645533,\n        \"num_unique_values\": 1,\n        \"samples\": [\n          0.736622376645533\n        ],\n        \"semantic_type\": \"\",\n        \"description\": \"\"\n      }\n    },\n    {\n      \"column\": \"Adjusted R2 Score\",\n      \"properties\": {\n        \"dtype\": \"number\",\n        \"std\": null,\n        \"min\": 0.7332118894592388,\n        \"max\": 0.7332118894592388,\n        \"num_unique_values\": 1,\n        \"samples\": [\n          0.7332118894592388\n        ],\n        \"semantic_type\": \"\",\n        \"description\": \"\"\n      }\n    },\n    {\n      \"column\": \"Cross Validated R2 Score\",\n      \"properties\": {\n        \"dtype\": \"number\",\n        \"std\": null,\n        \"min\": 0.7390079797854427,\n        \"max\": 0.7390079797854427,\n        \"num_unique_values\": 1,\n        \"samples\": [\n          0.7390079797854427\n        ],\n        \"semantic_type\": \"\",\n        \"description\": \"\"\n      }\n    },\n    {\n      \"column\": \"RMSE\",\n      \"properties\": {\n        \"dtype\": \"number\",\n        \"std\": null,\n        \"min\": 0.21043820179701797,\n        \"max\": 0.21043820179701797,\n        \"num_unique_values\": 1,\n        \"samples\": [\n          0.21043820179701797\n        ],\n        \"semantic_type\": \"\",\n        \"description\": \"\"\n      }\n    }\n  ]\n}"
            }
          },
          "metadata": {},
          "execution_count": 38
        }
      ],
      "source": [
        "ndf = [Reg_Models_Evaluation_Metrics(clf,X_train,y_train,X_test,y_test,y_pred)]\n",
        "\n",
        "clf_score = pd.DataFrame(data = ndf, columns=['R2 Score','Adjusted R2 Score','Cross Validated R2 Score','RMSE'])\n",
        "clf_score.insert(0, 'Model', 'Tuned Ridge Regression')\n",
        "clf_score"
      ]
    },
    {
      "cell_type": "markdown",
      "id": "3a359fde",
      "metadata": {
        "id": "3a359fde"
      },
      "source": [
        "# 9. Final performance comparison"
      ]
    },
    {
      "cell_type": "markdown",
      "id": "f72090cb",
      "metadata": {
        "id": "f72090cb"
      },
      "source": [
        "## 9.1 Avocado data set"
      ]
    },
    {
      "cell_type": "code",
      "execution_count": 40,
      "id": "17898477",
      "metadata": {
        "id": "17898477",
        "colab": {
          "base_uri": "https://localhost:8080/",
          "height": 237
        },
        "outputId": "2405902b-da6b-4bcf-d257-0fc95e610ca5"
      },
      "outputs": [
        {
          "output_type": "execute_result",
          "data": {
            "text/plain": [
              "                    Model  R2 Score  Adjusted R2 Score  \\\n",
              "0  Tuned Ridge Regression  0.736622           0.733212   \n",
              "1                 XGBoost  0.786301           0.783534   \n",
              "2  Random Forest with RFE  0.800071           0.797482   \n",
              "3           Random Forest  0.787120           0.784363   \n",
              "4        Ridge Regression  0.598733           0.593537   \n",
              "5       Linear Regression  0.598793           0.593598   \n",
              "\n",
              "   Cross Validated R2 Score      RMSE  \n",
              "0                  0.739008  0.210438  \n",
              "1                  0.914472  0.186784  \n",
              "2                  0.888114  0.180666  \n",
              "3                  0.876525  0.186426  \n",
              "4                  0.604317  0.255950  \n",
              "5                  0.604281  0.255931  "
            ],
            "text/html": [
              "\n",
              "  <div id=\"df-9dba8b2e-8239-44f5-afad-fb86873151f1\" class=\"colab-df-container\">\n",
              "    <div>\n",
              "<style scoped>\n",
              "    .dataframe tbody tr th:only-of-type {\n",
              "        vertical-align: middle;\n",
              "    }\n",
              "\n",
              "    .dataframe tbody tr th {\n",
              "        vertical-align: top;\n",
              "    }\n",
              "\n",
              "    .dataframe thead th {\n",
              "        text-align: right;\n",
              "    }\n",
              "</style>\n",
              "<table border=\"1\" class=\"dataframe\">\n",
              "  <thead>\n",
              "    <tr style=\"text-align: right;\">\n",
              "      <th></th>\n",
              "      <th>Model</th>\n",
              "      <th>R2 Score</th>\n",
              "      <th>Adjusted R2 Score</th>\n",
              "      <th>Cross Validated R2 Score</th>\n",
              "      <th>RMSE</th>\n",
              "    </tr>\n",
              "  </thead>\n",
              "  <tbody>\n",
              "    <tr>\n",
              "      <th>0</th>\n",
              "      <td>Tuned Ridge Regression</td>\n",
              "      <td>0.736622</td>\n",
              "      <td>0.733212</td>\n",
              "      <td>0.739008</td>\n",
              "      <td>0.210438</td>\n",
              "    </tr>\n",
              "    <tr>\n",
              "      <th>1</th>\n",
              "      <td>XGBoost</td>\n",
              "      <td>0.786301</td>\n",
              "      <td>0.783534</td>\n",
              "      <td>0.914472</td>\n",
              "      <td>0.186784</td>\n",
              "    </tr>\n",
              "    <tr>\n",
              "      <th>2</th>\n",
              "      <td>Random Forest with RFE</td>\n",
              "      <td>0.800071</td>\n",
              "      <td>0.797482</td>\n",
              "      <td>0.888114</td>\n",
              "      <td>0.180666</td>\n",
              "    </tr>\n",
              "    <tr>\n",
              "      <th>3</th>\n",
              "      <td>Random Forest</td>\n",
              "      <td>0.787120</td>\n",
              "      <td>0.784363</td>\n",
              "      <td>0.876525</td>\n",
              "      <td>0.186426</td>\n",
              "    </tr>\n",
              "    <tr>\n",
              "      <th>4</th>\n",
              "      <td>Ridge Regression</td>\n",
              "      <td>0.598733</td>\n",
              "      <td>0.593537</td>\n",
              "      <td>0.604317</td>\n",
              "      <td>0.255950</td>\n",
              "    </tr>\n",
              "    <tr>\n",
              "      <th>5</th>\n",
              "      <td>Linear Regression</td>\n",
              "      <td>0.598793</td>\n",
              "      <td>0.593598</td>\n",
              "      <td>0.604281</td>\n",
              "      <td>0.255931</td>\n",
              "    </tr>\n",
              "  </tbody>\n",
              "</table>\n",
              "</div>\n",
              "    <div class=\"colab-df-buttons\">\n",
              "\n",
              "  <div class=\"colab-df-container\">\n",
              "    <button class=\"colab-df-convert\" onclick=\"convertToInteractive('df-9dba8b2e-8239-44f5-afad-fb86873151f1')\"\n",
              "            title=\"Convert this dataframe to an interactive table.\"\n",
              "            style=\"display:none;\">\n",
              "\n",
              "  <svg xmlns=\"http://www.w3.org/2000/svg\" height=\"24px\" viewBox=\"0 -960 960 960\">\n",
              "    <path d=\"M120-120v-720h720v720H120Zm60-500h600v-160H180v160Zm220 220h160v-160H400v160Zm0 220h160v-160H400v160ZM180-400h160v-160H180v160Zm440 0h160v-160H620v160ZM180-180h160v-160H180v160Zm440 0h160v-160H620v160Z\"/>\n",
              "  </svg>\n",
              "    </button>\n",
              "\n",
              "  <style>\n",
              "    .colab-df-container {\n",
              "      display:flex;\n",
              "      gap: 12px;\n",
              "    }\n",
              "\n",
              "    .colab-df-convert {\n",
              "      background-color: #E8F0FE;\n",
              "      border: none;\n",
              "      border-radius: 50%;\n",
              "      cursor: pointer;\n",
              "      display: none;\n",
              "      fill: #1967D2;\n",
              "      height: 32px;\n",
              "      padding: 0 0 0 0;\n",
              "      width: 32px;\n",
              "    }\n",
              "\n",
              "    .colab-df-convert:hover {\n",
              "      background-color: #E2EBFA;\n",
              "      box-shadow: 0px 1px 2px rgba(60, 64, 67, 0.3), 0px 1px 3px 1px rgba(60, 64, 67, 0.15);\n",
              "      fill: #174EA6;\n",
              "    }\n",
              "\n",
              "    .colab-df-buttons div {\n",
              "      margin-bottom: 4px;\n",
              "    }\n",
              "\n",
              "    [theme=dark] .colab-df-convert {\n",
              "      background-color: #3B4455;\n",
              "      fill: #D2E3FC;\n",
              "    }\n",
              "\n",
              "    [theme=dark] .colab-df-convert:hover {\n",
              "      background-color: #434B5C;\n",
              "      box-shadow: 0px 1px 3px 1px rgba(0, 0, 0, 0.15);\n",
              "      filter: drop-shadow(0px 1px 2px rgba(0, 0, 0, 0.3));\n",
              "      fill: #FFFFFF;\n",
              "    }\n",
              "  </style>\n",
              "\n",
              "    <script>\n",
              "      const buttonEl =\n",
              "        document.querySelector('#df-9dba8b2e-8239-44f5-afad-fb86873151f1 button.colab-df-convert');\n",
              "      buttonEl.style.display =\n",
              "        google.colab.kernel.accessAllowed ? 'block' : 'none';\n",
              "\n",
              "      async function convertToInteractive(key) {\n",
              "        const element = document.querySelector('#df-9dba8b2e-8239-44f5-afad-fb86873151f1');\n",
              "        const dataTable =\n",
              "          await google.colab.kernel.invokeFunction('convertToInteractive',\n",
              "                                                    [key], {});\n",
              "        if (!dataTable) return;\n",
              "\n",
              "        const docLinkHtml = 'Like what you see? Visit the ' +\n",
              "          '<a target=\"_blank\" href=https://colab.research.google.com/notebooks/data_table.ipynb>data table notebook</a>'\n",
              "          + ' to learn more about interactive tables.';\n",
              "        element.innerHTML = '';\n",
              "        dataTable['output_type'] = 'display_data';\n",
              "        await google.colab.output.renderOutput(dataTable, element);\n",
              "        const docLink = document.createElement('div');\n",
              "        docLink.innerHTML = docLinkHtml;\n",
              "        element.appendChild(docLink);\n",
              "      }\n",
              "    </script>\n",
              "  </div>\n",
              "\n",
              "\n",
              "<div id=\"df-f0908546-fb9a-47a2-baec-0b10bb34c789\">\n",
              "  <button class=\"colab-df-quickchart\" onclick=\"quickchart('df-f0908546-fb9a-47a2-baec-0b10bb34c789')\"\n",
              "            title=\"Suggest charts\"\n",
              "            style=\"display:none;\">\n",
              "\n",
              "<svg xmlns=\"http://www.w3.org/2000/svg\" height=\"24px\"viewBox=\"0 0 24 24\"\n",
              "     width=\"24px\">\n",
              "    <g>\n",
              "        <path d=\"M19 3H5c-1.1 0-2 .9-2 2v14c0 1.1.9 2 2 2h14c1.1 0 2-.9 2-2V5c0-1.1-.9-2-2-2zM9 17H7v-7h2v7zm4 0h-2V7h2v10zm4 0h-2v-4h2v4z\"/>\n",
              "    </g>\n",
              "</svg>\n",
              "  </button>\n",
              "\n",
              "<style>\n",
              "  .colab-df-quickchart {\n",
              "      --bg-color: #E8F0FE;\n",
              "      --fill-color: #1967D2;\n",
              "      --hover-bg-color: #E2EBFA;\n",
              "      --hover-fill-color: #174EA6;\n",
              "      --disabled-fill-color: #AAA;\n",
              "      --disabled-bg-color: #DDD;\n",
              "  }\n",
              "\n",
              "  [theme=dark] .colab-df-quickchart {\n",
              "      --bg-color: #3B4455;\n",
              "      --fill-color: #D2E3FC;\n",
              "      --hover-bg-color: #434B5C;\n",
              "      --hover-fill-color: #FFFFFF;\n",
              "      --disabled-bg-color: #3B4455;\n",
              "      --disabled-fill-color: #666;\n",
              "  }\n",
              "\n",
              "  .colab-df-quickchart {\n",
              "    background-color: var(--bg-color);\n",
              "    border: none;\n",
              "    border-radius: 50%;\n",
              "    cursor: pointer;\n",
              "    display: none;\n",
              "    fill: var(--fill-color);\n",
              "    height: 32px;\n",
              "    padding: 0;\n",
              "    width: 32px;\n",
              "  }\n",
              "\n",
              "  .colab-df-quickchart:hover {\n",
              "    background-color: var(--hover-bg-color);\n",
              "    box-shadow: 0 1px 2px rgba(60, 64, 67, 0.3), 0 1px 3px 1px rgba(60, 64, 67, 0.15);\n",
              "    fill: var(--button-hover-fill-color);\n",
              "  }\n",
              "\n",
              "  .colab-df-quickchart-complete:disabled,\n",
              "  .colab-df-quickchart-complete:disabled:hover {\n",
              "    background-color: var(--disabled-bg-color);\n",
              "    fill: var(--disabled-fill-color);\n",
              "    box-shadow: none;\n",
              "  }\n",
              "\n",
              "  .colab-df-spinner {\n",
              "    border: 2px solid var(--fill-color);\n",
              "    border-color: transparent;\n",
              "    border-bottom-color: var(--fill-color);\n",
              "    animation:\n",
              "      spin 1s steps(1) infinite;\n",
              "  }\n",
              "\n",
              "  @keyframes spin {\n",
              "    0% {\n",
              "      border-color: transparent;\n",
              "      border-bottom-color: var(--fill-color);\n",
              "      border-left-color: var(--fill-color);\n",
              "    }\n",
              "    20% {\n",
              "      border-color: transparent;\n",
              "      border-left-color: var(--fill-color);\n",
              "      border-top-color: var(--fill-color);\n",
              "    }\n",
              "    30% {\n",
              "      border-color: transparent;\n",
              "      border-left-color: var(--fill-color);\n",
              "      border-top-color: var(--fill-color);\n",
              "      border-right-color: var(--fill-color);\n",
              "    }\n",
              "    40% {\n",
              "      border-color: transparent;\n",
              "      border-right-color: var(--fill-color);\n",
              "      border-top-color: var(--fill-color);\n",
              "    }\n",
              "    60% {\n",
              "      border-color: transparent;\n",
              "      border-right-color: var(--fill-color);\n",
              "    }\n",
              "    80% {\n",
              "      border-color: transparent;\n",
              "      border-right-color: var(--fill-color);\n",
              "      border-bottom-color: var(--fill-color);\n",
              "    }\n",
              "    90% {\n",
              "      border-color: transparent;\n",
              "      border-bottom-color: var(--fill-color);\n",
              "    }\n",
              "  }\n",
              "</style>\n",
              "\n",
              "  <script>\n",
              "    async function quickchart(key) {\n",
              "      const quickchartButtonEl =\n",
              "        document.querySelector('#' + key + ' button');\n",
              "      quickchartButtonEl.disabled = true;  // To prevent multiple clicks.\n",
              "      quickchartButtonEl.classList.add('colab-df-spinner');\n",
              "      try {\n",
              "        const charts = await google.colab.kernel.invokeFunction(\n",
              "            'suggestCharts', [key], {});\n",
              "      } catch (error) {\n",
              "        console.error('Error during call to suggestCharts:', error);\n",
              "      }\n",
              "      quickchartButtonEl.classList.remove('colab-df-spinner');\n",
              "      quickchartButtonEl.classList.add('colab-df-quickchart-complete');\n",
              "    }\n",
              "    (() => {\n",
              "      let quickchartButtonEl =\n",
              "        document.querySelector('#df-f0908546-fb9a-47a2-baec-0b10bb34c789 button');\n",
              "      quickchartButtonEl.style.display =\n",
              "        google.colab.kernel.accessAllowed ? 'block' : 'none';\n",
              "    })();\n",
              "  </script>\n",
              "</div>\n",
              "\n",
              "  <div id=\"id_8cc9f9d1-0b1b-4a8e-9f4f-fb2bf8a2889d\">\n",
              "    <style>\n",
              "      .colab-df-generate {\n",
              "        background-color: #E8F0FE;\n",
              "        border: none;\n",
              "        border-radius: 50%;\n",
              "        cursor: pointer;\n",
              "        display: none;\n",
              "        fill: #1967D2;\n",
              "        height: 32px;\n",
              "        padding: 0 0 0 0;\n",
              "        width: 32px;\n",
              "      }\n",
              "\n",
              "      .colab-df-generate:hover {\n",
              "        background-color: #E2EBFA;\n",
              "        box-shadow: 0px 1px 2px rgba(60, 64, 67, 0.3), 0px 1px 3px 1px rgba(60, 64, 67, 0.15);\n",
              "        fill: #174EA6;\n",
              "      }\n",
              "\n",
              "      [theme=dark] .colab-df-generate {\n",
              "        background-color: #3B4455;\n",
              "        fill: #D2E3FC;\n",
              "      }\n",
              "\n",
              "      [theme=dark] .colab-df-generate:hover {\n",
              "        background-color: #434B5C;\n",
              "        box-shadow: 0px 1px 3px 1px rgba(0, 0, 0, 0.15);\n",
              "        filter: drop-shadow(0px 1px 2px rgba(0, 0, 0, 0.3));\n",
              "        fill: #FFFFFF;\n",
              "      }\n",
              "    </style>\n",
              "    <button class=\"colab-df-generate\" onclick=\"generateWithVariable('result')\"\n",
              "            title=\"Generate code using this dataframe.\"\n",
              "            style=\"display:none;\">\n",
              "\n",
              "  <svg xmlns=\"http://www.w3.org/2000/svg\" height=\"24px\"viewBox=\"0 0 24 24\"\n",
              "       width=\"24px\">\n",
              "    <path d=\"M7,19H8.4L18.45,9,17,7.55,7,17.6ZM5,21V16.75L18.45,3.32a2,2,0,0,1,2.83,0l1.4,1.43a1.91,1.91,0,0,1,.58,1.4,1.91,1.91,0,0,1-.58,1.4L9.25,21ZM18.45,9,17,7.55Zm-12,3A5.31,5.31,0,0,0,4.9,8.1,5.31,5.31,0,0,0,1,6.5,5.31,5.31,0,0,0,4.9,4.9,5.31,5.31,0,0,0,6.5,1,5.31,5.31,0,0,0,8.1,4.9,5.31,5.31,0,0,0,12,6.5,5.46,5.46,0,0,0,6.5,12Z\"/>\n",
              "  </svg>\n",
              "    </button>\n",
              "    <script>\n",
              "      (() => {\n",
              "      const buttonEl =\n",
              "        document.querySelector('#id_8cc9f9d1-0b1b-4a8e-9f4f-fb2bf8a2889d button.colab-df-generate');\n",
              "      buttonEl.style.display =\n",
              "        google.colab.kernel.accessAllowed ? 'block' : 'none';\n",
              "\n",
              "      buttonEl.onclick = () => {\n",
              "        google.colab.notebook.generateWithVariable('result');\n",
              "      }\n",
              "      })();\n",
              "    </script>\n",
              "  </div>\n",
              "\n",
              "    </div>\n",
              "  </div>\n"
            ],
            "application/vnd.google.colaboratory.intrinsic+json": {
              "type": "dataframe",
              "variable_name": "result",
              "summary": "{\n  \"name\": \"result\",\n  \"rows\": 6,\n  \"fields\": [\n    {\n      \"column\": \"Model\",\n      \"properties\": {\n        \"dtype\": \"string\",\n        \"num_unique_values\": 6,\n        \"samples\": [\n          \"Tuned Ridge Regression\",\n          \"XGBoost\",\n          \"Linear Regression\"\n        ],\n        \"semantic_type\": \"\",\n        \"description\": \"\"\n      }\n    },\n    {\n      \"column\": \"R2 Score\",\n      \"properties\": {\n        \"dtype\": \"number\",\n        \"std\": 0.0948260065479649,\n        \"min\": 0.5987330050937683,\n        \"max\": 0.8000712125164897,\n        \"num_unique_values\": 6,\n        \"samples\": [\n          0.736622376645533,\n          0.7863011713143921,\n          0.5987934342056856\n        ],\n        \"semantic_type\": \"\",\n        \"description\": \"\"\n      }\n    },\n    {\n      \"column\": \"Adjusted R2 Score\",\n      \"properties\": {\n        \"dtype\": \"number\",\n        \"std\": 0.0960539122300814,\n        \"min\": 0.5935369830210476,\n        \"max\": 0.7974823267971961,\n        \"num_unique_values\": 6,\n        \"samples\": [\n          0.7332118894592388,\n          0.7835339767908943,\n          0.593598194631908\n        ],\n        \"semantic_type\": \"\",\n        \"description\": \"\"\n      }\n    },\n    {\n      \"column\": \"Cross Validated R2 Score\",\n      \"properties\": {\n        \"dtype\": \"number\",\n        \"std\": 0.14285459673905893,\n        \"min\": 0.6042812249582874,\n        \"max\": 0.9144720688641226,\n        \"num_unique_values\": 6,\n        \"samples\": [\n          0.7390079797854427,\n          0.9144720688641226,\n          0.6042812249582874\n        ],\n        \"semantic_type\": \"\",\n        \"description\": \"\"\n      }\n    },\n    {\n      \"column\": \"RMSE\",\n      \"properties\": {\n        \"dtype\": \"number\",\n        \"std\": 0.035022091523125604,\n        \"min\": 0.18066586367679666,\n        \"max\": 0.25595001259567146,\n        \"num_unique_values\": 6,\n        \"samples\": [\n          0.21043820179701797,\n          0.18678392892198512,\n          0.2559307393754634\n        ],\n        \"semantic_type\": \"\",\n        \"description\": \"\"\n      }\n    }\n  ]\n}"
            }
          },
          "metadata": {},
          "execution_count": 40
        }
      ],
      "source": [
        "result = pd.concat([clf_score, predictions], ignore_index=True, sort=False)\n",
        "result"
      ]
    },
    {
      "cell_type": "code",
      "execution_count": 41,
      "id": "b98d46f9",
      "metadata": {
        "id": "b98d46f9",
        "colab": {
          "base_uri": "https://localhost:8080/",
          "height": 411
        },
        "outputId": "b7f42a81-c52d-4d8c-edc2-94e5eb58f8e0"
      },
      "outputs": [
        {
          "output_type": "display_data",
          "data": {
            "text/plain": [
              "<Figure size 1800x600 with 1 Axes>"
            ],
            "image/png": "[encoded data removed]"
          },
          "metadata": {}
        }
      ],
      "source": [
        "f, axe = plt.subplots(1,1, figsize=(18,6))\n",
        "\n",
        "result.sort_values(by=['Cross Validated R2 Score'], ascending=False, inplace=True)\n",
        "\n",
        "sns.barplot(x='Cross Validated R2 Score', y='Model', data = result, ax = axe)\n",
        "#axes[0].set(xlabel='Region', ylabel='Charges')\n",
        "axe.set_xlabel('Cross Validated R2 Score', size=16)\n",
        "axe.set_ylabel('Model')\n",
        "axe.set_xlim(0,1.0)\n",
        "axe.set(title='Model Performance for Avocado dataset')\n",
        "\n",
        "plt.show()"
      ]
    },
    {
      "cell_type": "markdown",
      "id": "62527b22",
      "metadata": {
        "id": "62527b22"
      },
      "source": [
        "# 10. Other notebooks"
      ]
    },
    {
      "cell_type": "markdown",
      "id": "46e73fba",
      "metadata": {
        "id": "46e73fba"
      },
      "source": [
        "Clustering methods - comprehensive study\n",
        "\n",
        "https://www.kaggle.com/code/marcinrutecki/clustering-methods-comprehensive-study\n",
        "\n",
        "Outlier detection methods!\n",
        "\n",
        "https://www.kaggle.com/code/marcinrutecki/outlier-detection-methods\n",
        "\n",
        "Multicollinearity - detection and remedies\n",
        "\n",
        "https://www.kaggle.com/code/marcinrutecki/multicollinearity-detection-and-remedies"
      ]
    },
    {
      "cell_type": "markdown",
      "id": "090f7332",
      "metadata": {
        "id": "090f7332"
      },
      "source": [
        "# 11. Some referrals"
      ]
    },
    {
      "cell_type": "markdown",
      "id": "f6216184",
      "metadata": {
        "id": "f6216184"
      },
      "source": [
        "https://www.ncl.ac.uk/webtemplate/ask-assets/external/maths-resources/statistics/regression-and-correlation/coefficient-of-determination-r-squared.html"
      ]
    },
    {
      "cell_type": "code",
      "execution_count": null,
      "id": "e83a0ecd",
      "metadata": {
        "id": "e83a0ecd"
      },
      "outputs": [],
      "source": []
    }
  ],
  "metadata": {
    "colab": {
      "provenance": [],
      "gpuType": "A100",
      "include_colab_link": true
    },
    "kernelspec": {
      "display_name": "Python 3",
      "name": "python3"
    },
    "language_info": {
      "codemirror_mode": {
        "name": "ipython",
        "version": 3
      },
      "file_extension": ".py",
      "mimetype": "text/x-python",
      "name": "python",
      "nbconvert_exporter": "python",
      "pygments_lexer": "ipython3",
      "version": "3.7.12"
    },
    "papermill": {
      "default_parameters": {},
      "duration": 2602.285999,
      "end_time": "2022-12-13T10:56:16.441237",
      "environment_variables": {},
      "exception": null,
      "input_path": "__notebook__.ipynb",
      "output_path": "__notebook__.ipynb",
      "parameters": {},
      "start_time": "2022-12-13T10:12:54.155238",
      "version": "2.3.4"
    },
    "accelerator": "GPU"
  },
  "nbformat": 4,
  "nbformat_minor": 5
}